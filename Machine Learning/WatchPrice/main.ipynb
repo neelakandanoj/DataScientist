{
 "cells": [
  {
   "cell_type": "code",
   "execution_count": 106,
   "metadata": {
    "metadata": {}
   },
   "outputs": [],
   "source": [
    "import pandas as pd\n",
    "import numpy as np"
   ]
  },
  {
   "cell_type": "code",
   "execution_count": 107,
   "metadata": {
    "metadata": {}
   },
   "outputs": [],
   "source": [
    "data_path='./data/smartwatches.csv'\n",
    "df=pd.read_csv(data_path)"
   ]
  },
  {
   "cell_type": "code",
   "execution_count": 108,
   "metadata": {
    "metadata": {}
   },
   "outputs": [
    {
     "data": {
      "text/html": [
       "<div>\n",
       "<style scoped>\n",
       "    .dataframe tbody tr th:only-of-type {\n",
       "        vertical-align: middle;\n",
       "    }\n",
       "\n",
       "    .dataframe tbody tr th {\n",
       "        vertical-align: top;\n",
       "    }\n",
       "\n",
       "    .dataframe thead th {\n",
       "        text-align: right;\n",
       "    }\n",
       "</style>\n",
       "<table border=\"1\" class=\"dataframe\">\n",
       "  <thead>\n",
       "    <tr style=\"text-align: right;\">\n",
       "      <th></th>\n",
       "      <th>Unnamed: 0</th>\n",
       "      <th>Brand</th>\n",
       "      <th>Current Price</th>\n",
       "      <th>Original Price</th>\n",
       "      <th>Discount Percentage</th>\n",
       "      <th>Rating</th>\n",
       "      <th>Number OF Ratings</th>\n",
       "      <th>Model Name</th>\n",
       "      <th>Dial Shape</th>\n",
       "      <th>Strap Color</th>\n",
       "      <th>Strap Material</th>\n",
       "      <th>Touchscreen</th>\n",
       "      <th>Battery Life (Days)</th>\n",
       "      <th>Bluetooth</th>\n",
       "      <th>Display Size</th>\n",
       "      <th>Weight</th>\n",
       "    </tr>\n",
       "  </thead>\n",
       "  <tbody>\n",
       "    <tr>\n",
       "      <th>0</th>\n",
       "      <td>0</td>\n",
       "      <td>noise</td>\n",
       "      <td>82990.0</td>\n",
       "      <td>89900.0</td>\n",
       "      <td>7.686318</td>\n",
       "      <td>4.0</td>\n",
       "      <td>65.0</td>\n",
       "      <td>Wrb-sw-colorfitpro4alpha-std-rgld_pnk</td>\n",
       "      <td>NaN</td>\n",
       "      <td>NaN</td>\n",
       "      <td>NaN</td>\n",
       "      <td>NaN</td>\n",
       "      <td>8.0</td>\n",
       "      <td>Yes</td>\n",
       "      <td>NaN</td>\n",
       "      <td>35 - 50 g</td>\n",
       "    </tr>\n",
       "    <tr>\n",
       "      <th>1</th>\n",
       "      <td>1</td>\n",
       "      <td>fire-boltt</td>\n",
       "      <td>3799.0</td>\n",
       "      <td>16999.0</td>\n",
       "      <td>77.651627</td>\n",
       "      <td>4.3</td>\n",
       "      <td>20788.0</td>\n",
       "      <td>BSW046</td>\n",
       "      <td>NaN</td>\n",
       "      <td>NaN</td>\n",
       "      <td>Silicon</td>\n",
       "      <td>Yes</td>\n",
       "      <td>3.5</td>\n",
       "      <td>Yes</td>\n",
       "      <td>1.8 inches</td>\n",
       "      <td>50 - 75 g</td>\n",
       "    </tr>\n",
       "    <tr>\n",
       "      <th>2</th>\n",
       "      <td>2</td>\n",
       "      <td>boat</td>\n",
       "      <td>1999.0</td>\n",
       "      <td>7990.0</td>\n",
       "      <td>74.981227</td>\n",
       "      <td>3.8</td>\n",
       "      <td>21724.0</td>\n",
       "      <td>Wave Call</td>\n",
       "      <td>NaN</td>\n",
       "      <td>NaN</td>\n",
       "      <td>Silicon</td>\n",
       "      <td>Yes</td>\n",
       "      <td>8.0</td>\n",
       "      <td>Yes</td>\n",
       "      <td>1.7 inches</td>\n",
       "      <td>35 - 50 g</td>\n",
       "    </tr>\n",
       "    <tr>\n",
       "      <th>3</th>\n",
       "      <td>3</td>\n",
       "      <td>fire-boltt</td>\n",
       "      <td>1799.0</td>\n",
       "      <td>19999.0</td>\n",
       "      <td>91.004550</td>\n",
       "      <td>4.3</td>\n",
       "      <td>13244.0</td>\n",
       "      <td>BSW053</td>\n",
       "      <td>NaN</td>\n",
       "      <td>NaN</td>\n",
       "      <td>Silicon</td>\n",
       "      <td>Yes</td>\n",
       "      <td>3.5</td>\n",
       "      <td>Yes</td>\n",
       "      <td>1.8 inches</td>\n",
       "      <td>75g +</td>\n",
       "    </tr>\n",
       "    <tr>\n",
       "      <th>4</th>\n",
       "      <td>4</td>\n",
       "      <td>noise</td>\n",
       "      <td>1599.0</td>\n",
       "      <td>4999.0</td>\n",
       "      <td>68.013603</td>\n",
       "      <td>4.1</td>\n",
       "      <td>13901.0</td>\n",
       "      <td>Wrb-sw-colorfitpulsegobuzz-std-blk_blk</td>\n",
       "      <td>NaN</td>\n",
       "      <td>NaN</td>\n",
       "      <td>Other</td>\n",
       "      <td>Yes</td>\n",
       "      <td>8.0</td>\n",
       "      <td>Yes</td>\n",
       "      <td>1.7 inches</td>\n",
       "      <td>35 - 50 g</td>\n",
       "    </tr>\n",
       "  </tbody>\n",
       "</table>\n",
       "</div>"
      ],
      "text/plain": [
       "   Unnamed: 0       Brand  Current Price  Original Price  Discount Percentage  \\\n",
       "0           0       noise        82990.0         89900.0             7.686318   \n",
       "1           1  fire-boltt         3799.0         16999.0            77.651627   \n",
       "2           2        boat         1999.0          7990.0            74.981227   \n",
       "3           3  fire-boltt         1799.0         19999.0            91.004550   \n",
       "4           4       noise         1599.0          4999.0            68.013603   \n",
       "\n",
       "   Rating  Number OF Ratings                              Model Name  \\\n",
       "0     4.0               65.0   Wrb-sw-colorfitpro4alpha-std-rgld_pnk   \n",
       "1     4.3            20788.0                                  BSW046   \n",
       "2     3.8            21724.0                               Wave Call   \n",
       "3     4.3            13244.0                                  BSW053   \n",
       "4     4.1            13901.0  Wrb-sw-colorfitpulsegobuzz-std-blk_blk   \n",
       "\n",
       "  Dial Shape Strap Color Strap Material Touchscreen  Battery Life (Days)  \\\n",
       "0        NaN         NaN            NaN         NaN                  8.0   \n",
       "1        NaN         NaN        Silicon         Yes                  3.5   \n",
       "2        NaN         NaN        Silicon         Yes                  8.0   \n",
       "3        NaN         NaN        Silicon         Yes                  3.5   \n",
       "4        NaN         NaN          Other         Yes                  8.0   \n",
       "\n",
       "  Bluetooth Display Size     Weight  \n",
       "0       Yes          NaN  35 - 50 g  \n",
       "1       Yes   1.8 inches  50 - 75 g  \n",
       "2       Yes   1.7 inches  35 - 50 g  \n",
       "3       Yes   1.8 inches      75g +  \n",
       "4       Yes   1.7 inches  35 - 50 g  "
      ]
     },
     "execution_count": 108,
     "metadata": {},
     "output_type": "execute_result"
    }
   ],
   "source": [
    "df.head()"
   ]
  },
  {
   "cell_type": "code",
   "execution_count": 109,
   "metadata": {
    "metadata": {}
   },
   "outputs": [
    {
     "data": {
      "text/plain": [
       "(450, 16)"
      ]
     },
     "execution_count": 109,
     "metadata": {},
     "output_type": "execute_result"
    }
   ],
   "source": [
    "df.shape"
   ]
  },
  {
   "cell_type": "code",
   "execution_count": 110,
   "metadata": {
    "metadata": {}
   },
   "outputs": [
    {
     "data": {
      "text/plain": [
       "Index(['Unnamed: 0', 'Brand', 'Current Price', 'Original Price',\n",
       "       'Discount Percentage', 'Rating', 'Number OF Ratings', 'Model Name',\n",
       "       'Dial Shape', 'Strap Color', 'Strap Material', 'Touchscreen',\n",
       "       'Battery Life (Days)', 'Bluetooth', 'Display Size', 'Weight'],\n",
       "      dtype='object')"
      ]
     },
     "execution_count": 110,
     "metadata": {},
     "output_type": "execute_result"
    }
   ],
   "source": [
    "df.columns"
   ]
  },
  {
   "cell_type": "code",
   "execution_count": 111,
   "metadata": {
    "metadata": {}
   },
   "outputs": [
    {
     "data": {
      "text/plain": [
       "Unnamed: 0               int64\n",
       "Brand                   object\n",
       "Current Price          float64\n",
       "Original Price         float64\n",
       "Discount Percentage    float64\n",
       "Rating                 float64\n",
       "Number OF Ratings      float64\n",
       "Model Name              object\n",
       "Dial Shape              object\n",
       "Strap Color             object\n",
       "Strap Material          object\n",
       "Touchscreen             object\n",
       "Battery Life (Days)    float64\n",
       "Bluetooth               object\n",
       "Display Size            object\n",
       "Weight                  object\n",
       "dtype: object"
      ]
     },
     "execution_count": 111,
     "metadata": {},
     "output_type": "execute_result"
    }
   ],
   "source": [
    "df.dtypes"
   ]
  },
  {
   "cell_type": "code",
   "execution_count": 112,
   "metadata": {
    "metadata": {}
   },
   "outputs": [],
   "source": [
    "df=df.reset_index()"
   ]
  },
  {
   "cell_type": "code",
   "execution_count": 113,
   "metadata": {
    "metadata": {}
   },
   "outputs": [],
   "source": [
    "\n",
    "df.drop_duplicates(inplace=True)"
   ]
  },
  {
   "cell_type": "code",
   "execution_count": 114,
   "metadata": {
    "metadata": {}
   },
   "outputs": [
    {
     "data": {
      "text/plain": [
       "index                    0\n",
       "Unnamed: 0               0\n",
       "Brand                    0\n",
       "Current Price           10\n",
       "Original Price          73\n",
       "Discount Percentage     73\n",
       "Rating                   6\n",
       "Number OF Ratings       59\n",
       "Model Name              35\n",
       "Dial Shape             123\n",
       "Strap Color            123\n",
       "Strap Material          69\n",
       "Touchscreen             37\n",
       "Battery Life (Days)     32\n",
       "Bluetooth                6\n",
       "Display Size            30\n",
       "Weight                 186\n",
       "dtype: int64"
      ]
     },
     "execution_count": 114,
     "metadata": {},
     "output_type": "execute_result"
    }
   ],
   "source": [
    "\n",
    "df.isna().sum()"
   ]
  },
  {
   "cell_type": "code",
   "execution_count": 115,
   "metadata": {
    "metadata": {}
   },
   "outputs": [],
   "source": [
    "df.drop(columns=['Unnamed: 0'], inplace=True)"
   ]
  },
  {
   "cell_type": "code",
   "execution_count": 116,
   "metadata": {
    "metadata": {}
   },
   "outputs": [
    {
     "data": {
      "text/html": [
       "<div>\n",
       "<style scoped>\n",
       "    .dataframe tbody tr th:only-of-type {\n",
       "        vertical-align: middle;\n",
       "    }\n",
       "\n",
       "    .dataframe tbody tr th {\n",
       "        vertical-align: top;\n",
       "    }\n",
       "\n",
       "    .dataframe thead th {\n",
       "        text-align: right;\n",
       "    }\n",
       "</style>\n",
       "<table border=\"1\" class=\"dataframe\">\n",
       "  <thead>\n",
       "    <tr style=\"text-align: right;\">\n",
       "      <th></th>\n",
       "      <th>index</th>\n",
       "      <th>Brand</th>\n",
       "      <th>Current Price</th>\n",
       "      <th>Original Price</th>\n",
       "      <th>Discount Percentage</th>\n",
       "      <th>Rating</th>\n",
       "      <th>Number OF Ratings</th>\n",
       "      <th>Model Name</th>\n",
       "      <th>Dial Shape</th>\n",
       "      <th>Strap Color</th>\n",
       "      <th>Strap Material</th>\n",
       "      <th>Touchscreen</th>\n",
       "      <th>Battery Life (Days)</th>\n",
       "      <th>Bluetooth</th>\n",
       "      <th>Display Size</th>\n",
       "      <th>Weight</th>\n",
       "    </tr>\n",
       "  </thead>\n",
       "  <tbody>\n",
       "    <tr>\n",
       "      <th>0</th>\n",
       "      <td>0</td>\n",
       "      <td>noise</td>\n",
       "      <td>82990.0</td>\n",
       "      <td>89900.0</td>\n",
       "      <td>7.686318</td>\n",
       "      <td>4.0</td>\n",
       "      <td>65.0</td>\n",
       "      <td>Wrb-sw-colorfitpro4alpha-std-rgld_pnk</td>\n",
       "      <td>NaN</td>\n",
       "      <td>NaN</td>\n",
       "      <td>NaN</td>\n",
       "      <td>NaN</td>\n",
       "      <td>8.0</td>\n",
       "      <td>Yes</td>\n",
       "      <td>NaN</td>\n",
       "      <td>35 - 50 g</td>\n",
       "    </tr>\n",
       "    <tr>\n",
       "      <th>1</th>\n",
       "      <td>1</td>\n",
       "      <td>fire-boltt</td>\n",
       "      <td>3799.0</td>\n",
       "      <td>16999.0</td>\n",
       "      <td>77.651627</td>\n",
       "      <td>4.3</td>\n",
       "      <td>20788.0</td>\n",
       "      <td>BSW046</td>\n",
       "      <td>NaN</td>\n",
       "      <td>NaN</td>\n",
       "      <td>Silicon</td>\n",
       "      <td>Yes</td>\n",
       "      <td>3.5</td>\n",
       "      <td>Yes</td>\n",
       "      <td>1.8 inches</td>\n",
       "      <td>50 - 75 g</td>\n",
       "    </tr>\n",
       "    <tr>\n",
       "      <th>2</th>\n",
       "      <td>2</td>\n",
       "      <td>boat</td>\n",
       "      <td>1999.0</td>\n",
       "      <td>7990.0</td>\n",
       "      <td>74.981227</td>\n",
       "      <td>3.8</td>\n",
       "      <td>21724.0</td>\n",
       "      <td>Wave Call</td>\n",
       "      <td>NaN</td>\n",
       "      <td>NaN</td>\n",
       "      <td>Silicon</td>\n",
       "      <td>Yes</td>\n",
       "      <td>8.0</td>\n",
       "      <td>Yes</td>\n",
       "      <td>1.7 inches</td>\n",
       "      <td>35 - 50 g</td>\n",
       "    </tr>\n",
       "    <tr>\n",
       "      <th>3</th>\n",
       "      <td>3</td>\n",
       "      <td>fire-boltt</td>\n",
       "      <td>1799.0</td>\n",
       "      <td>19999.0</td>\n",
       "      <td>91.004550</td>\n",
       "      <td>4.3</td>\n",
       "      <td>13244.0</td>\n",
       "      <td>BSW053</td>\n",
       "      <td>NaN</td>\n",
       "      <td>NaN</td>\n",
       "      <td>Silicon</td>\n",
       "      <td>Yes</td>\n",
       "      <td>3.5</td>\n",
       "      <td>Yes</td>\n",
       "      <td>1.8 inches</td>\n",
       "      <td>75g +</td>\n",
       "    </tr>\n",
       "    <tr>\n",
       "      <th>4</th>\n",
       "      <td>4</td>\n",
       "      <td>noise</td>\n",
       "      <td>1599.0</td>\n",
       "      <td>4999.0</td>\n",
       "      <td>68.013603</td>\n",
       "      <td>4.1</td>\n",
       "      <td>13901.0</td>\n",
       "      <td>Wrb-sw-colorfitpulsegobuzz-std-blk_blk</td>\n",
       "      <td>NaN</td>\n",
       "      <td>NaN</td>\n",
       "      <td>Other</td>\n",
       "      <td>Yes</td>\n",
       "      <td>8.0</td>\n",
       "      <td>Yes</td>\n",
       "      <td>1.7 inches</td>\n",
       "      <td>35 - 50 g</td>\n",
       "    </tr>\n",
       "  </tbody>\n",
       "</table>\n",
       "</div>"
      ],
      "text/plain": [
       "   index       Brand  Current Price  Original Price  Discount Percentage  \\\n",
       "0      0       noise        82990.0         89900.0             7.686318   \n",
       "1      1  fire-boltt         3799.0         16999.0            77.651627   \n",
       "2      2        boat         1999.0          7990.0            74.981227   \n",
       "3      3  fire-boltt         1799.0         19999.0            91.004550   \n",
       "4      4       noise         1599.0          4999.0            68.013603   \n",
       "\n",
       "   Rating  Number OF Ratings                              Model Name  \\\n",
       "0     4.0               65.0   Wrb-sw-colorfitpro4alpha-std-rgld_pnk   \n",
       "1     4.3            20788.0                                  BSW046   \n",
       "2     3.8            21724.0                               Wave Call   \n",
       "3     4.3            13244.0                                  BSW053   \n",
       "4     4.1            13901.0  Wrb-sw-colorfitpulsegobuzz-std-blk_blk   \n",
       "\n",
       "  Dial Shape Strap Color Strap Material Touchscreen  Battery Life (Days)  \\\n",
       "0        NaN         NaN            NaN         NaN                  8.0   \n",
       "1        NaN         NaN        Silicon         Yes                  3.5   \n",
       "2        NaN         NaN        Silicon         Yes                  8.0   \n",
       "3        NaN         NaN        Silicon         Yes                  3.5   \n",
       "4        NaN         NaN          Other         Yes                  8.0   \n",
       "\n",
       "  Bluetooth Display Size     Weight  \n",
       "0       Yes          NaN  35 - 50 g  \n",
       "1       Yes   1.8 inches  50 - 75 g  \n",
       "2       Yes   1.7 inches  35 - 50 g  \n",
       "3       Yes   1.8 inches      75g +  \n",
       "4       Yes   1.7 inches  35 - 50 g  "
      ]
     },
     "execution_count": 116,
     "metadata": {},
     "output_type": "execute_result"
    }
   ],
   "source": [
    "df.head()"
   ]
  },
  {
   "cell_type": "code",
   "execution_count": 117,
   "metadata": {
    "metadata": {}
   },
   "outputs": [],
   "source": [
    "numerical_data=[feature for feature in df.columns if df[feature].dtype != 'objects']\n",
    "continuous_data = [feature for feature in df.columns if df[feature].dtype == 'object']\n"
   ]
  },
  {
   "cell_type": "code",
   "execution_count": 118,
   "metadata": {
    "metadata": {}
   },
   "outputs": [
    {
     "data": {
      "text/plain": [
       "['index',\n",
       " 'Brand',\n",
       " 'Current Price',\n",
       " 'Original Price',\n",
       " 'Discount Percentage',\n",
       " 'Rating',\n",
       " 'Number OF Ratings',\n",
       " 'Model Name',\n",
       " 'Dial Shape',\n",
       " 'Strap Color',\n",
       " 'Strap Material',\n",
       " 'Touchscreen',\n",
       " 'Battery Life (Days)',\n",
       " 'Bluetooth',\n",
       " 'Display Size',\n",
       " 'Weight']"
      ]
     },
     "execution_count": 118,
     "metadata": {},
     "output_type": "execute_result"
    }
   ],
   "source": [
    "numerical_data"
   ]
  },
  {
   "cell_type": "code",
   "execution_count": 119,
   "metadata": {
    "metadata": {}
   },
   "outputs": [
    {
     "data": {
      "text/html": [
       "<div>\n",
       "<style scoped>\n",
       "    .dataframe tbody tr th:only-of-type {\n",
       "        vertical-align: middle;\n",
       "    }\n",
       "\n",
       "    .dataframe tbody tr th {\n",
       "        vertical-align: top;\n",
       "    }\n",
       "\n",
       "    .dataframe thead th {\n",
       "        text-align: right;\n",
       "    }\n",
       "</style>\n",
       "<table border=\"1\" class=\"dataframe\">\n",
       "  <thead>\n",
       "    <tr style=\"text-align: right;\">\n",
       "      <th></th>\n",
       "      <th>index</th>\n",
       "      <th>Current Price</th>\n",
       "      <th>Original Price</th>\n",
       "      <th>Discount Percentage</th>\n",
       "      <th>Rating</th>\n",
       "      <th>Number OF Ratings</th>\n",
       "      <th>Battery Life (Days)</th>\n",
       "    </tr>\n",
       "  </thead>\n",
       "  <tbody>\n",
       "    <tr>\n",
       "      <th>count</th>\n",
       "      <td>450.000000</td>\n",
       "      <td>440.000000</td>\n",
       "      <td>377.000000</td>\n",
       "      <td>377.000000</td>\n",
       "      <td>444.000000</td>\n",
       "      <td>391.000000</td>\n",
       "      <td>418.000000</td>\n",
       "    </tr>\n",
       "    <tr>\n",
       "      <th>mean</th>\n",
       "      <td>224.500000</td>\n",
       "      <td>12747.554545</td>\n",
       "      <td>14598.204244</td>\n",
       "      <td>48.236894</td>\n",
       "      <td>4.031306</td>\n",
       "      <td>11594.726343</td>\n",
       "      <td>14.077392</td>\n",
       "    </tr>\n",
       "    <tr>\n",
       "      <th>std</th>\n",
       "      <td>130.048068</td>\n",
       "      <td>17760.666099</td>\n",
       "      <td>15450.028869</td>\n",
       "      <td>24.109830</td>\n",
       "      <td>0.550548</td>\n",
       "      <td>40423.889227</td>\n",
       "      <td>7.718503</td>\n",
       "    </tr>\n",
       "    <tr>\n",
       "      <th>min</th>\n",
       "      <td>0.000000</td>\n",
       "      <td>1199.000000</td>\n",
       "      <td>1669.000000</td>\n",
       "      <td>-79.688436</td>\n",
       "      <td>1.000000</td>\n",
       "      <td>1.000000</td>\n",
       "      <td>0.750000</td>\n",
       "    </tr>\n",
       "    <tr>\n",
       "      <th>25%</th>\n",
       "      <td>112.250000</td>\n",
       "      <td>2180.750000</td>\n",
       "      <td>5999.000000</td>\n",
       "      <td>33.337037</td>\n",
       "      <td>3.900000</td>\n",
       "      <td>68.500000</td>\n",
       "      <td>8.000000</td>\n",
       "    </tr>\n",
       "    <tr>\n",
       "      <th>50%</th>\n",
       "      <td>224.500000</td>\n",
       "      <td>3999.000000</td>\n",
       "      <td>7999.000000</td>\n",
       "      <td>54.550414</td>\n",
       "      <td>4.100000</td>\n",
       "      <td>996.000000</td>\n",
       "      <td>17.500000</td>\n",
       "    </tr>\n",
       "    <tr>\n",
       "      <th>75%</th>\n",
       "      <td>336.750000</td>\n",
       "      <td>17121.750000</td>\n",
       "      <td>17999.000000</td>\n",
       "      <td>66.677780</td>\n",
       "      <td>4.300000</td>\n",
       "      <td>6022.000000</td>\n",
       "      <td>22.000000</td>\n",
       "    </tr>\n",
       "    <tr>\n",
       "      <th>max</th>\n",
       "      <td>449.000000</td>\n",
       "      <td>139990.000000</td>\n",
       "      <td>96390.000000</td>\n",
       "      <td>91.004550</td>\n",
       "      <td>5.000000</td>\n",
       "      <td>619130.000000</td>\n",
       "      <td>22.000000</td>\n",
       "    </tr>\n",
       "  </tbody>\n",
       "</table>\n",
       "</div>"
      ],
      "text/plain": [
       "            index  Current Price  Original Price  Discount Percentage  \\\n",
       "count  450.000000     440.000000      377.000000           377.000000   \n",
       "mean   224.500000   12747.554545    14598.204244            48.236894   \n",
       "std    130.048068   17760.666099    15450.028869            24.109830   \n",
       "min      0.000000    1199.000000     1669.000000           -79.688436   \n",
       "25%    112.250000    2180.750000     5999.000000            33.337037   \n",
       "50%    224.500000    3999.000000     7999.000000            54.550414   \n",
       "75%    336.750000   17121.750000    17999.000000            66.677780   \n",
       "max    449.000000  139990.000000    96390.000000            91.004550   \n",
       "\n",
       "           Rating  Number OF Ratings  Battery Life (Days)  \n",
       "count  444.000000         391.000000           418.000000  \n",
       "mean     4.031306       11594.726343            14.077392  \n",
       "std      0.550548       40423.889227             7.718503  \n",
       "min      1.000000           1.000000             0.750000  \n",
       "25%      3.900000          68.500000             8.000000  \n",
       "50%      4.100000         996.000000            17.500000  \n",
       "75%      4.300000        6022.000000            22.000000  \n",
       "max      5.000000      619130.000000            22.000000  "
      ]
     },
     "execution_count": 119,
     "metadata": {},
     "output_type": "execute_result"
    }
   ],
   "source": [
    "df[numerical_data].describe()"
   ]
  },
  {
   "cell_type": "code",
   "execution_count": 120,
   "metadata": {
    "metadata": {}
   },
   "outputs": [
    {
     "data": {
      "text/plain": [
       "Index(['index', 'Brand', 'Current Price', 'Original Price',\n",
       "       'Discount Percentage', 'Rating', 'Number OF Ratings', 'Model Name',\n",
       "       'Dial Shape', 'Strap Color', 'Strap Material', 'Touchscreen',\n",
       "       'Battery Life (Days)', 'Bluetooth', 'Display Size', 'Weight'],\n",
       "      dtype='object')"
      ]
     },
     "execution_count": 120,
     "metadata": {},
     "output_type": "execute_result"
    }
   ],
   "source": [
    "df.columns"
   ]
  },
  {
   "cell_type": "markdown",
   "metadata": {},
   "source": [
    "# Pandas Profiling"
   ]
  },
  {
   "cell_type": "code",
   "execution_count": 121,
   "metadata": {
    "metadata": {}
   },
   "outputs": [],
   "source": [
    "# pip install ipywidgets"
   ]
  },
  {
   "cell_type": "code",
   "execution_count": 122,
   "metadata": {
    "metadata": {}
   },
   "outputs": [],
   "source": [
    "# pip install ydata-profiling\n",
    "# "
   ]
  },
  {
   "cell_type": "code",
   "execution_count": 123,
   "metadata": {
    "metadata": {}
   },
   "outputs": [],
   "source": [
    "# import ydata_profiling as pp\n",
    "# pp.ProfileReport(df)"
   ]
  },
  {
   "cell_type": "markdown",
   "metadata": {},
   "source": [
    "# Columnwise cleaning"
   ]
  },
  {
   "cell_type": "markdown",
   "metadata": {},
   "source": [
    "# column 1 Brand"
   ]
  },
  {
   "cell_type": "code",
   "execution_count": 124,
   "metadata": {
    "metadata": {}
   },
   "outputs": [
    {
     "data": {
      "text/plain": [
       "dtype('O')"
      ]
     },
     "execution_count": 124,
     "metadata": {},
     "output_type": "execute_result"
    }
   ],
   "source": [
    "#Column 1 Brand\n",
    "df['Brand'].dtypes"
   ]
  },
  {
   "cell_type": "code",
   "execution_count": 125,
   "metadata": {
    "metadata": {}
   },
   "outputs": [
    {
     "data": {
      "text/plain": [
       "array(['noise', 'fire-boltt', 'boat', 'honor', 'crossbeats', 'samsung',\n",
       "       'garmin', 'huawei', 'dizo', 'gizmore', 'ambrane', 'zebronics',\n",
       "       'pebble', 'hammer', 'apple', 'fitbit', 'amazfit', 'fossil'],\n",
       "      dtype=object)"
      ]
     },
     "execution_count": 125,
     "metadata": {},
     "output_type": "execute_result"
    }
   ],
   "source": [
    "df['Brand'].unique()"
   ]
  },
  {
   "cell_type": "code",
   "execution_count": 126,
   "metadata": {
    "metadata": {}
   },
   "outputs": [
    {
     "data": {
      "text/plain": [
       "0"
      ]
     },
     "execution_count": 126,
     "metadata": {},
     "output_type": "execute_result"
    }
   ],
   "source": [
    "df['Brand'].isna().sum()"
   ]
  },
  {
   "cell_type": "code",
   "execution_count": 127,
   "metadata": {
    "metadata": {}
   },
   "outputs": [
    {
     "data": {
      "text/plain": [
       "count            450\n",
       "unique            18\n",
       "top       fire-boltt\n",
       "freq              60\n",
       "Name: Brand, dtype: object"
      ]
     },
     "execution_count": 127,
     "metadata": {},
     "output_type": "execute_result"
    }
   ],
   "source": [
    "df['Brand'].describe()"
   ]
  },
  {
   "cell_type": "markdown",
   "metadata": {},
   "source": [
    "# Column 2 current price"
   ]
  },
  {
   "cell_type": "code",
   "execution_count": 128,
   "metadata": {
    "metadata": {}
   },
   "outputs": [
    {
     "data": {
      "text/plain": [
       "dtype('float64')"
      ]
     },
     "execution_count": 128,
     "metadata": {},
     "output_type": "execute_result"
    }
   ],
   "source": [
    "df['Current Price'].dtypes"
   ]
  },
  {
   "cell_type": "code",
   "execution_count": 129,
   "metadata": {
    "metadata": {}
   },
   "outputs": [
    {
     "data": {
      "text/plain": [
       "10"
      ]
     },
     "execution_count": 129,
     "metadata": {},
     "output_type": "execute_result"
    }
   ],
   "source": [
    "df['Current Price'].isna().sum()"
   ]
  },
  {
   "cell_type": "code",
   "execution_count": 130,
   "metadata": {
    "metadata": {}
   },
   "outputs": [],
   "source": [
    "df.dropna(subset=['Current Price'], inplace=True)"
   ]
  },
  {
   "cell_type": "code",
   "execution_count": 131,
   "metadata": {
    "metadata": {}
   },
   "outputs": [
    {
     "data": {
      "text/plain": [
       "count       440.000000\n",
       "mean      12747.554545\n",
       "std       17760.666099\n",
       "min        1199.000000\n",
       "25%        2180.750000\n",
       "50%        3999.000000\n",
       "75%       17121.750000\n",
       "max      139990.000000\n",
       "Name: Current Price, dtype: float64"
      ]
     },
     "execution_count": 131,
     "metadata": {},
     "output_type": "execute_result"
    }
   ],
   "source": [
    "df['Current Price'].describe()"
   ]
  },
  {
   "cell_type": "code",
   "execution_count": 132,
   "metadata": {
    "metadata": {}
   },
   "outputs": [
    {
     "data": {
      "text/plain": [
       "(39533.25, -20230.75)"
      ]
     },
     "execution_count": 132,
     "metadata": {},
     "output_type": "execute_result"
    }
   ],
   "source": [
    "# Checing the Outlier for hours column\n",
    "q3=df['Current Price'].quantile(0.75)\n",
    "q1=df['Current Price'].quantile(0.25)\n",
    "iqr=q3-q1\n",
    "upper_threshold=q3+(1.5*iqr)\n",
    "lower_threshold=q1-(1.5*iqr)\n",
    "upper_threshold,lower_threshold"
   ]
  },
  {
   "cell_type": "markdown",
   "metadata": {},
   "source": [
    "upper_threshold most be greater than the maxiumum\n",
    "lower_threshold most lower than minmum"
   ]
  },
  {
   "cell_type": "code",
   "execution_count": 133,
   "metadata": {
    "metadata": {}
   },
   "outputs": [],
   "source": [
    "df['Current Price']=df['Current Price'].clip(lower_threshold,upper_threshold)"
   ]
  },
  {
   "cell_type": "markdown",
   "metadata": {},
   "source": [
    "# Column 3 Oridinary Price"
   ]
  },
  {
   "cell_type": "code",
   "execution_count": 134,
   "metadata": {
    "metadata": {}
   },
   "outputs": [
    {
     "data": {
      "text/plain": [
       "Index(['index', 'Brand', 'Current Price', 'Original Price',\n",
       "       'Discount Percentage', 'Rating', 'Number OF Ratings', 'Model Name',\n",
       "       'Dial Shape', 'Strap Color', 'Strap Material', 'Touchscreen',\n",
       "       'Battery Life (Days)', 'Bluetooth', 'Display Size', 'Weight'],\n",
       "      dtype='object')"
      ]
     },
     "execution_count": 134,
     "metadata": {},
     "output_type": "execute_result"
    }
   ],
   "source": [
    "df.columns"
   ]
  },
  {
   "cell_type": "code",
   "execution_count": 135,
   "metadata": {
    "metadata": {}
   },
   "outputs": [
    {
     "data": {
      "text/plain": [
       "dtype('float64')"
      ]
     },
     "execution_count": 135,
     "metadata": {},
     "output_type": "execute_result"
    }
   ],
   "source": [
    "df['Original Price'].dtypes"
   ]
  },
  {
   "cell_type": "code",
   "execution_count": 136,
   "metadata": {
    "metadata": {}
   },
   "outputs": [
    {
     "data": {
      "text/plain": [
       "63"
      ]
     },
     "execution_count": 136,
     "metadata": {},
     "output_type": "execute_result"
    }
   ],
   "source": [
    "df['Original Price'].isna().sum()"
   ]
  },
  {
   "cell_type": "code",
   "execution_count": 137,
   "metadata": {
    "metadata": {}
   },
   "outputs": [
    {
     "name": "stderr",
     "output_type": "stream",
     "text": [
      "C:\\Users\\IT PARK\\AppData\\Local\\Temp\\ipykernel_15988\\513676346.py:2: FutureWarning: A value is trying to be set on a copy of a DataFrame or Series through chained assignment using an inplace method.\n",
      "The behavior will change in pandas 3.0. This inplace method will never work because the intermediate object on which we are setting values always behaves as a copy.\n",
      "\n",
      "For example, when doing 'df[col].method(value, inplace=True)', try using 'df.method({col: value}, inplace=True)' or df[col] = df[col].method(value) instead, to perform the operation inplace on the original object.\n",
      "\n",
      "\n",
      "  df['Original Price'].fillna(df['Original Price'].mean(), inplace=True)\n"
     ]
    }
   ],
   "source": [
    "# Fill missing values in 'Original Price' column with the mean of the column\n",
    "df['Original Price'].fillna(df['Original Price'].mean(), inplace=True)\n"
   ]
  },
  {
   "cell_type": "code",
   "execution_count": 138,
   "metadata": {
    "metadata": {}
   },
   "outputs": [
    {
     "data": {
      "text/plain": [
       "count      440.000000\n",
       "mean     14598.204244\n",
       "std      14298.515734\n",
       "min       1669.000000\n",
       "25%       5999.000000\n",
       "50%       9999.000000\n",
       "75%      14991.250000\n",
       "max      96390.000000\n",
       "Name: Original Price, dtype: float64"
      ]
     },
     "execution_count": 138,
     "metadata": {},
     "output_type": "execute_result"
    }
   ],
   "source": [
    "df['Original Price'].describe()"
   ]
  },
  {
   "cell_type": "code",
   "execution_count": 139,
   "metadata": {
    "metadata": {}
   },
   "outputs": [
    {
     "data": {
      "text/plain": [
       "(28479.625, -7489.375)"
      ]
     },
     "execution_count": 139,
     "metadata": {},
     "output_type": "execute_result"
    }
   ],
   "source": [
    "# Checing the Outlier for hours column\n",
    "q3=df['Original Price'].quantile(0.75)\n",
    "q1=df['Original Price'].quantile(0.25)\n",
    "iqr=q3-q1\n",
    "upper_threshold=q3+(1.5*iqr)\n",
    "lower_threshold=q1-(1.5*iqr)\n",
    "upper_threshold,lower_threshold"
   ]
  },
  {
   "cell_type": "code",
   "execution_count": 140,
   "metadata": {
    "metadata": {}
   },
   "outputs": [],
   "source": [
    "df['Original Price']=df['Original Price'].clip(lower_threshold,upper_threshold)"
   ]
  },
  {
   "cell_type": "markdown",
   "metadata": {},
   "source": [
    "# Column 4 Discount Percentage"
   ]
  },
  {
   "cell_type": "code",
   "execution_count": 141,
   "metadata": {
    "metadata": {}
   },
   "outputs": [
    {
     "data": {
      "text/plain": [
       "dtype('float64')"
      ]
     },
     "execution_count": 141,
     "metadata": {},
     "output_type": "execute_result"
    }
   ],
   "source": [
    "df['Discount Percentage'].dtypes"
   ]
  },
  {
   "cell_type": "code",
   "execution_count": 142,
   "metadata": {
    "metadata": {}
   },
   "outputs": [
    {
     "data": {
      "text/plain": [
       "63"
      ]
     },
     "execution_count": 142,
     "metadata": {},
     "output_type": "execute_result"
    }
   ],
   "source": [
    "df['Discount Percentage'].isna().sum()"
   ]
  },
  {
   "cell_type": "code",
   "execution_count": 143,
   "metadata": {
    "metadata": {}
   },
   "outputs": [
    {
     "name": "stderr",
     "output_type": "stream",
     "text": [
      "C:\\Users\\IT PARK\\AppData\\Local\\Temp\\ipykernel_15988\\3467233965.py:1: FutureWarning: A value is trying to be set on a copy of a DataFrame or Series through chained assignment using an inplace method.\n",
      "The behavior will change in pandas 3.0. This inplace method will never work because the intermediate object on which we are setting values always behaves as a copy.\n",
      "\n",
      "For example, when doing 'df[col].method(value, inplace=True)', try using 'df.method({col: value}, inplace=True)' or df[col] = df[col].method(value) instead, to perform the operation inplace on the original object.\n",
      "\n",
      "\n",
      "  df['Discount Percentage'].fillna(df['Discount Percentage'].mean(),inplace=True)\n"
     ]
    }
   ],
   "source": [
    "df['Discount Percentage'].fillna(df['Discount Percentage'].mean(),inplace=True)"
   ]
  },
  {
   "cell_type": "code",
   "execution_count": 144,
   "metadata": {
    "metadata": {}
   },
   "outputs": [
    {
     "data": {
      "text/plain": [
       "count    440.000000\n",
       "mean      48.236894\n",
       "std       22.312890\n",
       "min      -79.688436\n",
       "25%       37.441275\n",
       "50%       48.236894\n",
       "75%       65.006501\n",
       "max       91.004550\n",
       "Name: Discount Percentage, dtype: float64"
      ]
     },
     "execution_count": 144,
     "metadata": {},
     "output_type": "execute_result"
    }
   ],
   "source": [
    "df['Discount Percentage'].describe()"
   ]
  },
  {
   "cell_type": "code",
   "execution_count": 145,
   "metadata": {
    "metadata": {}
   },
   "outputs": [
    {
     "data": {
      "text/plain": [
       "(106.35433954875002, -3.906564181250012)"
      ]
     },
     "execution_count": 145,
     "metadata": {},
     "output_type": "execute_result"
    }
   ],
   "source": [
    "# Checing the Outlier for hours column\n",
    "q3=df['Discount Percentage'].quantile(0.75)\n",
    "q1=df['Discount Percentage'].quantile(0.25)\n",
    "iqr=q3-q1\n",
    "upper_threshold=q3+(1.5*iqr)\n",
    "lower_threshold=q1-(1.5*iqr)\n",
    "upper_threshold,lower_threshold"
   ]
  },
  {
   "cell_type": "code",
   "execution_count": 146,
   "metadata": {
    "metadata": {}
   },
   "outputs": [],
   "source": [
    "df['Discount Percentage'] = df['Discount Percentage'].clip(lower_threshold, upper_threshold)\n"
   ]
  },
  {
   "cell_type": "markdown",
   "metadata": {},
   "source": [
    "# Column 5 Rating"
   ]
  },
  {
   "cell_type": "code",
   "execution_count": 147,
   "metadata": {
    "metadata": {}
   },
   "outputs": [
    {
     "data": {
      "text/plain": [
       "Index(['index', 'Brand', 'Current Price', 'Original Price',\n",
       "       'Discount Percentage', 'Rating', 'Number OF Ratings', 'Model Name',\n",
       "       'Dial Shape', 'Strap Color', 'Strap Material', 'Touchscreen',\n",
       "       'Battery Life (Days)', 'Bluetooth', 'Display Size', 'Weight'],\n",
       "      dtype='object')"
      ]
     },
     "execution_count": 147,
     "metadata": {},
     "output_type": "execute_result"
    }
   ],
   "source": [
    "df.columns"
   ]
  },
  {
   "cell_type": "code",
   "execution_count": 148,
   "metadata": {
    "metadata": {}
   },
   "outputs": [
    {
     "data": {
      "text/plain": [
       "dtype('float64')"
      ]
     },
     "execution_count": 148,
     "metadata": {},
     "output_type": "execute_result"
    }
   ],
   "source": [
    "df['Rating'].dtypes"
   ]
  },
  {
   "cell_type": "code",
   "execution_count": 149,
   "metadata": {
    "metadata": {}
   },
   "outputs": [
    {
     "data": {
      "text/plain": [
       "5"
      ]
     },
     "execution_count": 149,
     "metadata": {},
     "output_type": "execute_result"
    }
   ],
   "source": [
    "df['Rating'].isna().sum()"
   ]
  },
  {
   "cell_type": "code",
   "execution_count": 150,
   "metadata": {
    "metadata": {}
   },
   "outputs": [],
   "source": [
    "df.dropna(subset=['Rating'],inplace=True)"
   ]
  },
  {
   "cell_type": "code",
   "execution_count": 151,
   "metadata": {
    "metadata": {}
   },
   "outputs": [
    {
     "data": {
      "text/plain": [
       "count    435.000000\n",
       "mean       4.032874\n",
       "std        0.545108\n",
       "min        1.000000\n",
       "25%        3.900000\n",
       "50%        4.100000\n",
       "75%        4.300000\n",
       "max        5.000000\n",
       "Name: Rating, dtype: float64"
      ]
     },
     "execution_count": 151,
     "metadata": {},
     "output_type": "execute_result"
    }
   ],
   "source": [
    "df['Rating'].describe()"
   ]
  },
  {
   "cell_type": "code",
   "execution_count": 152,
   "metadata": {
    "metadata": {}
   },
   "outputs": [
    {
     "data": {
      "text/plain": [
       "(4.8999999999999995, 3.3)"
      ]
     },
     "execution_count": 152,
     "metadata": {},
     "output_type": "execute_result"
    }
   ],
   "source": [
    "# Checing the Outlier for hours column\n",
    "q3=df['Rating'].quantile(0.75)\n",
    "q1=df['Rating'].quantile(0.25)\n",
    "iqr=q3-q1\n",
    "upper_threshold=q3+(1.5*iqr)\n",
    "lower_threshold=q1-(1.5*iqr)\n",
    "upper_threshold,lower_threshold"
   ]
  },
  {
   "cell_type": "code",
   "execution_count": 153,
   "metadata": {
    "metadata": {}
   },
   "outputs": [],
   "source": [
    "df['Rating']=df['Rating'].clip(lower_threshold,upper_threshold)"
   ]
  },
  {
   "cell_type": "markdown",
   "metadata": {},
   "source": [
    "# Columns 6 Number of Ratings"
   ]
  },
  {
   "cell_type": "code",
   "execution_count": 154,
   "metadata": {
    "metadata": {}
   },
   "outputs": [
    {
     "data": {
      "text/plain": [
       "Index(['index', 'Brand', 'Current Price', 'Original Price',\n",
       "       'Discount Percentage', 'Rating', 'Number OF Ratings', 'Model Name',\n",
       "       'Dial Shape', 'Strap Color', 'Strap Material', 'Touchscreen',\n",
       "       'Battery Life (Days)', 'Bluetooth', 'Display Size', 'Weight'],\n",
       "      dtype='object')"
      ]
     },
     "execution_count": 154,
     "metadata": {},
     "output_type": "execute_result"
    }
   ],
   "source": [
    "df.columns"
   ]
  },
  {
   "cell_type": "code",
   "execution_count": 155,
   "metadata": {
    "metadata": {}
   },
   "outputs": [
    {
     "data": {
      "text/plain": [
       "dtype('float64')"
      ]
     },
     "execution_count": 155,
     "metadata": {},
     "output_type": "execute_result"
    }
   ],
   "source": [
    "df['Number OF Ratings'].dtypes"
   ]
  },
  {
   "cell_type": "code",
   "execution_count": 156,
   "metadata": {
    "metadata": {}
   },
   "outputs": [
    {
     "data": {
      "text/plain": [
       "52"
      ]
     },
     "execution_count": 156,
     "metadata": {},
     "output_type": "execute_result"
    }
   ],
   "source": [
    "df['Number OF Ratings'].isna().sum()"
   ]
  },
  {
   "cell_type": "code",
   "execution_count": 157,
   "metadata": {
    "metadata": {}
   },
   "outputs": [
    {
     "name": "stderr",
     "output_type": "stream",
     "text": [
      "C:\\Users\\IT PARK\\AppData\\Local\\Temp\\ipykernel_15988\\3089905631.py:1: FutureWarning: A value is trying to be set on a copy of a DataFrame or Series through chained assignment using an inplace method.\n",
      "The behavior will change in pandas 3.0. This inplace method will never work because the intermediate object on which we are setting values always behaves as a copy.\n",
      "\n",
      "For example, when doing 'df[col].method(value, inplace=True)', try using 'df.method({col: value}, inplace=True)' or df[col] = df[col].method(value) instead, to perform the operation inplace on the original object.\n",
      "\n",
      "\n",
      "  df['Number OF Ratings'].fillna(df['Number OF Ratings'].mean(),inplace=True)\n"
     ]
    }
   ],
   "source": [
    "df['Number OF Ratings'].fillna(df['Number OF Ratings'].mean(),inplace=True)"
   ]
  },
  {
   "cell_type": "code",
   "execution_count": 158,
   "metadata": {
    "metadata": {}
   },
   "outputs": [
    {
     "data": {
      "text/plain": [
       "count       435.000000\n",
       "mean      11718.430809\n",
       "std       38271.888573\n",
       "min           1.000000\n",
       "25%         101.000000\n",
       "50%        1779.000000\n",
       "75%       11718.430809\n",
       "max      619130.000000\n",
       "Name: Number OF Ratings, dtype: float64"
      ]
     },
     "execution_count": 158,
     "metadata": {},
     "output_type": "execute_result"
    }
   ],
   "source": [
    "df['Number OF Ratings'].describe()"
   ]
  },
  {
   "cell_type": "code",
   "execution_count": 159,
   "metadata": {
    "metadata": {}
   },
   "outputs": [
    {
     "data": {
      "text/plain": [
       "(29144.5770234987, -17325.14621409922)"
      ]
     },
     "execution_count": 159,
     "metadata": {},
     "output_type": "execute_result"
    }
   ],
   "source": [
    "# Checing the Outlier for hours column\n",
    "q3=df['Number OF Ratings'].quantile(0.75)\n",
    "q1=df['Number OF Ratings'].quantile(0.25)\n",
    "iqr=q3-q1\n",
    "upper_threshold=q3+(1.5*iqr)\n",
    "lower_threshold=q1-(1.5*iqr)\n",
    "upper_threshold,lower_threshold"
   ]
  },
  {
   "cell_type": "code",
   "execution_count": 160,
   "metadata": {
    "metadata": {}
   },
   "outputs": [],
   "source": [
    "df['Number OF Ratings']=df['Number OF Ratings'].clip(lower_threshold,upper_threshold)"
   ]
  },
  {
   "cell_type": "markdown",
   "metadata": {},
   "source": [
    "# column 7 Model Name"
   ]
  },
  {
   "cell_type": "code",
   "execution_count": 161,
   "metadata": {
    "metadata": {}
   },
   "outputs": [
    {
     "data": {
      "text/plain": [
       "Index(['index', 'Brand', 'Current Price', 'Original Price',\n",
       "       'Discount Percentage', 'Rating', 'Number OF Ratings', 'Model Name',\n",
       "       'Dial Shape', 'Strap Color', 'Strap Material', 'Touchscreen',\n",
       "       'Battery Life (Days)', 'Bluetooth', 'Display Size', 'Weight'],\n",
       "      dtype='object')"
      ]
     },
     "execution_count": 161,
     "metadata": {},
     "output_type": "execute_result"
    }
   ],
   "source": [
    "df.columns"
   ]
  },
  {
   "cell_type": "code",
   "execution_count": 162,
   "metadata": {
    "metadata": {}
   },
   "outputs": [
    {
     "data": {
      "text/plain": [
       "dtype('O')"
      ]
     },
     "execution_count": 162,
     "metadata": {},
     "output_type": "execute_result"
    }
   ],
   "source": [
    "df['Model Name'].dtypes"
   ]
  },
  {
   "cell_type": "code",
   "execution_count": 163,
   "metadata": {
    "metadata": {}
   },
   "outputs": [
    {
     "data": {
      "text/plain": [
       "30"
      ]
     },
     "execution_count": 163,
     "metadata": {},
     "output_type": "execute_result"
    }
   ],
   "source": [
    "df['Model Name'].isna().sum()"
   ]
  },
  {
   "cell_type": "code",
   "execution_count": 164,
   "metadata": {
    "metadata": {}
   },
   "outputs": [],
   "source": [
    "mode_value=df['Model Name'].mode()[0]"
   ]
  },
  {
   "cell_type": "code",
   "execution_count": 165,
   "metadata": {
    "metadata": {}
   },
   "outputs": [
    {
     "name": "stderr",
     "output_type": "stream",
     "text": [
      "C:\\Users\\IT PARK\\AppData\\Local\\Temp\\ipykernel_15988\\2204606826.py:1: FutureWarning: A value is trying to be set on a copy of a DataFrame or Series through chained assignment using an inplace method.\n",
      "The behavior will change in pandas 3.0. This inplace method will never work because the intermediate object on which we are setting values always behaves as a copy.\n",
      "\n",
      "For example, when doing 'df[col].method(value, inplace=True)', try using 'df.method({col: value}, inplace=True)' or df[col] = df[col].method(value) instead, to perform the operation inplace on the original object.\n",
      "\n",
      "\n",
      "  df['Model Name'].fillna(mode_value,inplace=True)\n"
     ]
    }
   ],
   "source": [
    "df['Model Name'].fillna(mode_value,inplace=True)"
   ]
  },
  {
   "cell_type": "code",
   "execution_count": 166,
   "metadata": {
    "metadata": {}
   },
   "outputs": [
    {
     "data": {
      "text/plain": [
       "count      435\n",
       "unique     382\n",
       "top       ring\n",
       "freq        35\n",
       "Name: Model Name, dtype: object"
      ]
     },
     "execution_count": 166,
     "metadata": {},
     "output_type": "execute_result"
    }
   ],
   "source": [
    "df['Model Name'].describe()"
   ]
  },
  {
   "cell_type": "markdown",
   "metadata": {},
   "source": [
    "# Column 8 Dial Shape"
   ]
  },
  {
   "cell_type": "code",
   "execution_count": 167,
   "metadata": {
    "metadata": {}
   },
   "outputs": [
    {
     "data": {
      "text/plain": [
       "dtype('O')"
      ]
     },
     "execution_count": 167,
     "metadata": {},
     "output_type": "execute_result"
    }
   ],
   "source": [
    "df['Dial Shape'].dtypes"
   ]
  },
  {
   "cell_type": "code",
   "execution_count": 168,
   "metadata": {
    "metadata": {}
   },
   "outputs": [
    {
     "data": {
      "text/plain": [
       "Dial Shape\n",
       "Circle          131\n",
       "Square           98\n",
       "Rectangle        86\n",
       "Curved            6\n",
       "Contemporary      1\n",
       "Oval              1\n",
       "Name: count, dtype: int64"
      ]
     },
     "execution_count": 168,
     "metadata": {},
     "output_type": "execute_result"
    }
   ],
   "source": [
    "df['Dial Shape'].value_counts()"
   ]
  },
  {
   "cell_type": "code",
   "execution_count": 169,
   "metadata": {
    "metadata": {}
   },
   "outputs": [
    {
     "data": {
      "text/plain": [
       "112"
      ]
     },
     "execution_count": 169,
     "metadata": {},
     "output_type": "execute_result"
    }
   ],
   "source": [
    "df['Dial Shape'].isna().sum()"
   ]
  },
  {
   "cell_type": "code",
   "execution_count": 170,
   "metadata": {
    "metadata": {}
   },
   "outputs": [
    {
     "name": "stderr",
     "output_type": "stream",
     "text": [
      "C:\\Users\\IT PARK\\AppData\\Local\\Temp\\ipykernel_15988\\850355619.py:2: FutureWarning: A value is trying to be set on a copy of a DataFrame or Series through chained assignment using an inplace method.\n",
      "The behavior will change in pandas 3.0. This inplace method will never work because the intermediate object on which we are setting values always behaves as a copy.\n",
      "\n",
      "For example, when doing 'df[col].method(value, inplace=True)', try using 'df.method({col: value}, inplace=True)' or df[col] = df[col].method(value) instead, to perform the operation inplace on the original object.\n",
      "\n",
      "\n",
      "  df['Dial Shape'].fillna(mode_value,inplace=True)\n"
     ]
    }
   ],
   "source": [
    "mode_value=df['Dial Shape'].mode()[0]\n",
    "df['Dial Shape'].fillna(mode_value,inplace=True)"
   ]
  },
  {
   "cell_type": "markdown",
   "metadata": {},
   "source": [
    "# Column 9 Strap Color"
   ]
  },
  {
   "cell_type": "code",
   "execution_count": 171,
   "metadata": {
    "metadata": {}
   },
   "outputs": [
    {
     "data": {
      "text/plain": [
       "dtype('O')"
      ]
     },
     "execution_count": 171,
     "metadata": {},
     "output_type": "execute_result"
    }
   ],
   "source": [
    "df['Strap Color'].dtypes"
   ]
  },
  {
   "cell_type": "code",
   "execution_count": 172,
   "metadata": {
    "metadata": {}
   },
   "outputs": [
    {
     "data": {
      "text/plain": [
       "112"
      ]
     },
     "execution_count": 172,
     "metadata": {},
     "output_type": "execute_result"
    }
   ],
   "source": [
    "df['Strap Color'].isna().sum()"
   ]
  },
  {
   "cell_type": "code",
   "execution_count": 173,
   "metadata": {
    "metadata": {}
   },
   "outputs": [
    {
     "data": {
      "text/plain": [
       "Strap Color\n",
       "Black              130\n",
       "Blue                40\n",
       "Grey                34\n",
       "Pink                14\n",
       "Silver              14\n",
       "Green               13\n",
       "Red                 11\n",
       "White               10\n",
       "Brown               10\n",
       "Gold                 8\n",
       "Beige                4\n",
       "Graphite             3\n",
       "Orange               3\n",
       "Starlight Sport      3\n",
       "Rose Gold            3\n",
       "Purple               3\n",
       "Charcoal             2\n",
       "Multicolor           2\n",
       "Orange Alpine        2\n",
       "Burgundy             2\n",
       "Maroon               2\n",
       "Midnight             2\n",
       "Morning Glow         1\n",
       "Passion Pink         1\n",
       "Beet Juice           1\n",
       "White Platinum       1\n",
       "Misty Rose           1\n",
       "Pink, Gold           1\n",
       "Deep Wine            1\n",
       "Sea Green            1\n",
       "Name: count, dtype: int64"
      ]
     },
     "execution_count": 173,
     "metadata": {},
     "output_type": "execute_result"
    }
   ],
   "source": [
    "df['Strap Color'].value_counts()"
   ]
  },
  {
   "cell_type": "code",
   "execution_count": 174,
   "metadata": {
    "metadata": {}
   },
   "outputs": [
    {
     "name": "stderr",
     "output_type": "stream",
     "text": [
      "C:\\Users\\IT PARK\\AppData\\Local\\Temp\\ipykernel_15988\\2981689808.py:2: FutureWarning: A value is trying to be set on a copy of a DataFrame or Series through chained assignment using an inplace method.\n",
      "The behavior will change in pandas 3.0. This inplace method will never work because the intermediate object on which we are setting values always behaves as a copy.\n",
      "\n",
      "For example, when doing 'df[col].method(value, inplace=True)', try using 'df.method({col: value}, inplace=True)' or df[col] = df[col].method(value) instead, to perform the operation inplace on the original object.\n",
      "\n",
      "\n",
      "  df['Strap Color'].fillna(mode_value,inplace=True)\n"
     ]
    }
   ],
   "source": [
    "mode_value=df['Strap Color'].mode()[0]\n",
    "df['Strap Color'].fillna(mode_value,inplace=True)"
   ]
  },
  {
   "cell_type": "code",
   "execution_count": 175,
   "metadata": {
    "metadata": {}
   },
   "outputs": [
    {
     "data": {
      "text/plain": [
       "count       435\n",
       "unique       30\n",
       "top       Black\n",
       "freq        242\n",
       "Name: Strap Color, dtype: object"
      ]
     },
     "execution_count": 175,
     "metadata": {},
     "output_type": "execute_result"
    }
   ],
   "source": [
    "df['Strap Color'].describe()"
   ]
  },
  {
   "cell_type": "markdown",
   "metadata": {},
   "source": [
    "# Column 11 Strap Material"
   ]
  },
  {
   "cell_type": "code",
   "execution_count": 176,
   "metadata": {
    "metadata": {}
   },
   "outputs": [
    {
     "data": {
      "text/plain": [
       "Index(['index', 'Brand', 'Current Price', 'Original Price',\n",
       "       'Discount Percentage', 'Rating', 'Number OF Ratings', 'Model Name',\n",
       "       'Dial Shape', 'Strap Color', 'Strap Material', 'Touchscreen',\n",
       "       'Battery Life (Days)', 'Bluetooth', 'Display Size', 'Weight'],\n",
       "      dtype='object')"
      ]
     },
     "execution_count": 176,
     "metadata": {},
     "output_type": "execute_result"
    }
   ],
   "source": [
    "df.columns"
   ]
  },
  {
   "cell_type": "code",
   "execution_count": 177,
   "metadata": {
    "metadata": {}
   },
   "outputs": [
    {
     "data": {
      "text/plain": [
       "dtype('O')"
      ]
     },
     "execution_count": 177,
     "metadata": {},
     "output_type": "execute_result"
    }
   ],
   "source": [
    "df['Strap Material'].dtypes"
   ]
  },
  {
   "cell_type": "code",
   "execution_count": 178,
   "metadata": {
    "metadata": {}
   },
   "outputs": [
    {
     "data": {
      "text/plain": [
       "60"
      ]
     },
     "execution_count": 178,
     "metadata": {},
     "output_type": "execute_result"
    }
   ],
   "source": [
    "df['Strap Material'].isna().sum()"
   ]
  },
  {
   "cell_type": "code",
   "execution_count": 179,
   "metadata": {
    "metadata": {}
   },
   "outputs": [
    {
     "name": "stderr",
     "output_type": "stream",
     "text": [
      "C:\\Users\\IT PARK\\AppData\\Local\\Temp\\ipykernel_15988\\310424642.py:2: FutureWarning: A value is trying to be set on a copy of a DataFrame or Series through chained assignment using an inplace method.\n",
      "The behavior will change in pandas 3.0. This inplace method will never work because the intermediate object on which we are setting values always behaves as a copy.\n",
      "\n",
      "For example, when doing 'df[col].method(value, inplace=True)', try using 'df.method({col: value}, inplace=True)' or df[col] = df[col].method(value) instead, to perform the operation inplace on the original object.\n",
      "\n",
      "\n",
      "  df['Strap Material'].fillna(mode_value,inplace=True)\n"
     ]
    }
   ],
   "source": [
    "mode_value=df['Strap Material'].mode()[0]\n",
    "df['Strap Material'].fillna(mode_value,inplace=True)"
   ]
  },
  {
   "cell_type": "code",
   "execution_count": 180,
   "metadata": {
    "metadata": {}
   },
   "outputs": [
    {
     "data": {
      "text/plain": [
       "count         435\n",
       "unique         15\n",
       "top       Silicon\n",
       "freq          303\n",
       "Name: Strap Material, dtype: object"
      ]
     },
     "execution_count": 180,
     "metadata": {},
     "output_type": "execute_result"
    }
   ],
   "source": [
    "df['Strap Material'].describe()"
   ]
  },
  {
   "cell_type": "markdown",
   "metadata": {},
   "source": [
    "# Column 12 Touchscreen"
   ]
  },
  {
   "cell_type": "code",
   "execution_count": 181,
   "metadata": {
    "metadata": {}
   },
   "outputs": [
    {
     "data": {
      "text/plain": [
       "dtype('O')"
      ]
     },
     "execution_count": 181,
     "metadata": {},
     "output_type": "execute_result"
    }
   ],
   "source": [
    "df['Touchscreen'].dtypes"
   ]
  },
  {
   "cell_type": "code",
   "execution_count": 182,
   "metadata": {
    "metadata": {}
   },
   "outputs": [
    {
     "data": {
      "text/plain": [
       "33"
      ]
     },
     "execution_count": 182,
     "metadata": {},
     "output_type": "execute_result"
    }
   ],
   "source": [
    "df['Touchscreen'].isna().sum()"
   ]
  },
  {
   "cell_type": "code",
   "execution_count": 183,
   "metadata": {
    "metadata": {}
   },
   "outputs": [
    {
     "name": "stderr",
     "output_type": "stream",
     "text": [
      "C:\\Users\\IT PARK\\AppData\\Local\\Temp\\ipykernel_15988\\625395840.py:2: FutureWarning: A value is trying to be set on a copy of a DataFrame or Series through chained assignment using an inplace method.\n",
      "The behavior will change in pandas 3.0. This inplace method will never work because the intermediate object on which we are setting values always behaves as a copy.\n",
      "\n",
      "For example, when doing 'df[col].method(value, inplace=True)', try using 'df.method({col: value}, inplace=True)' or df[col] = df[col].method(value) instead, to perform the operation inplace on the original object.\n",
      "\n",
      "\n",
      "  df['Touchscreen'].fillna(mode_value,inplace=True)\n"
     ]
    }
   ],
   "source": [
    "mode_value=df['Touchscreen'].mode()[0]\n",
    "df['Touchscreen'].fillna(mode_value,inplace=True)"
   ]
  },
  {
   "cell_type": "code",
   "execution_count": 184,
   "metadata": {
    "metadata": {}
   },
   "outputs": [
    {
     "data": {
      "text/plain": [
       "count     435\n",
       "unique      2\n",
       "top       Yes\n",
       "freq      411\n",
       "Name: Touchscreen, dtype: object"
      ]
     },
     "execution_count": 184,
     "metadata": {},
     "output_type": "execute_result"
    }
   ],
   "source": [
    "df['Touchscreen'].describe()"
   ]
  },
  {
   "cell_type": "markdown",
   "metadata": {},
   "source": [
    "# Column 13 Battery Life (Days)"
   ]
  },
  {
   "cell_type": "code",
   "execution_count": 185,
   "metadata": {
    "metadata": {}
   },
   "outputs": [
    {
     "data": {
      "text/plain": [
       "dtype('float64')"
      ]
     },
     "execution_count": 185,
     "metadata": {},
     "output_type": "execute_result"
    }
   ],
   "source": [
    "df['Battery Life (Days)'].dtypes"
   ]
  },
  {
   "cell_type": "code",
   "execution_count": 186,
   "metadata": {
    "metadata": {}
   },
   "outputs": [
    {
     "data": {
      "text/plain": [
       "28"
      ]
     },
     "execution_count": 186,
     "metadata": {},
     "output_type": "execute_result"
    }
   ],
   "source": [
    "df['Battery Life (Days)'].isna().sum()"
   ]
  },
  {
   "cell_type": "code",
   "execution_count": 187,
   "metadata": {
    "metadata": {}
   },
   "outputs": [
    {
     "name": "stderr",
     "output_type": "stream",
     "text": [
      "C:\\Users\\IT PARK\\AppData\\Local\\Temp\\ipykernel_15988\\3863559126.py:1: FutureWarning: A value is trying to be set on a copy of a DataFrame or Series through chained assignment using an inplace method.\n",
      "The behavior will change in pandas 3.0. This inplace method will never work because the intermediate object on which we are setting values always behaves as a copy.\n",
      "\n",
      "For example, when doing 'df[col].method(value, inplace=True)', try using 'df.method({col: value}, inplace=True)' or df[col] = df[col].method(value) instead, to perform the operation inplace on the original object.\n",
      "\n",
      "\n",
      "  df['Battery Life (Days)'].fillna(df['Battery Life (Days)'].median(),inplace=True)\n"
     ]
    }
   ],
   "source": [
    "df['Battery Life (Days)'].fillna(df['Battery Life (Days)'].median(),inplace=True)"
   ]
  },
  {
   "cell_type": "code",
   "execution_count": 188,
   "metadata": {
    "metadata": {}
   },
   "outputs": [
    {
     "data": {
      "text/plain": [
       "count    435.000000\n",
       "mean      14.300575\n",
       "std        7.513496\n",
       "min        0.750000\n",
       "25%        8.000000\n",
       "50%       17.500000\n",
       "75%       22.000000\n",
       "max       22.000000\n",
       "Name: Battery Life (Days), dtype: float64"
      ]
     },
     "execution_count": 188,
     "metadata": {},
     "output_type": "execute_result"
    }
   ],
   "source": [
    "df['Battery Life (Days)'].describe()"
   ]
  },
  {
   "cell_type": "code",
   "execution_count": 189,
   "metadata": {
    "metadata": {}
   },
   "outputs": [
    {
     "data": {
      "text/plain": [
       "(43.0, -13.0)"
      ]
     },
     "execution_count": 189,
     "metadata": {},
     "output_type": "execute_result"
    }
   ],
   "source": [
    "# Checing the Outlier for hours column\n",
    "q3=df['Battery Life (Days)'].quantile(0.75)\n",
    "q1=df['Battery Life (Days)'].quantile(0.25)\n",
    "iqr=q3-q1\n",
    "upper_threshold=q3+(1.5*iqr)\n",
    "lower_threshold=q1-(1.5*iqr)\n",
    "upper_threshold,lower_threshold"
   ]
  },
  {
   "cell_type": "code",
   "execution_count": 190,
   "metadata": {
    "metadata": {}
   },
   "outputs": [],
   "source": [
    "df['Battery Life (Days)']=df['Battery Life (Days)'].clip(lower_threshold,upper_threshold)"
   ]
  },
  {
   "cell_type": "markdown",
   "metadata": {},
   "source": [
    "# column 14 Bluetooth"
   ]
  },
  {
   "cell_type": "code",
   "execution_count": 191,
   "metadata": {
    "metadata": {}
   },
   "outputs": [
    {
     "data": {
      "text/plain": [
       "Index(['index', 'Brand', 'Current Price', 'Original Price',\n",
       "       'Discount Percentage', 'Rating', 'Number OF Ratings', 'Model Name',\n",
       "       'Dial Shape', 'Strap Color', 'Strap Material', 'Touchscreen',\n",
       "       'Battery Life (Days)', 'Bluetooth', 'Display Size', 'Weight'],\n",
       "      dtype='object')"
      ]
     },
     "execution_count": 191,
     "metadata": {},
     "output_type": "execute_result"
    }
   ],
   "source": [
    "df.columns"
   ]
  },
  {
   "cell_type": "code",
   "execution_count": 192,
   "metadata": {
    "metadata": {}
   },
   "outputs": [
    {
     "data": {
      "text/plain": [
       "dtype('O')"
      ]
     },
     "execution_count": 192,
     "metadata": {},
     "output_type": "execute_result"
    }
   ],
   "source": [
    "df['Bluetooth'].dtypes"
   ]
  },
  {
   "cell_type": "code",
   "execution_count": 193,
   "metadata": {
    "metadata": {}
   },
   "outputs": [
    {
     "data": {
      "text/plain": [
       "5"
      ]
     },
     "execution_count": 193,
     "metadata": {},
     "output_type": "execute_result"
    }
   ],
   "source": [
    "df['Bluetooth'].isna().sum()"
   ]
  },
  {
   "cell_type": "code",
   "execution_count": 194,
   "metadata": {
    "metadata": {}
   },
   "outputs": [
    {
     "data": {
      "text/plain": [
       "<bound method IndexOpsMixin.value_counts of 0      Yes\n",
       "1      Yes\n",
       "2      Yes\n",
       "3      Yes\n",
       "4      Yes\n",
       "      ... \n",
       "442    Yes\n",
       "443    Yes\n",
       "444    Yes\n",
       "445    Yes\n",
       "447    Yes\n",
       "Name: Bluetooth, Length: 435, dtype: object>"
      ]
     },
     "execution_count": 194,
     "metadata": {},
     "output_type": "execute_result"
    }
   ],
   "source": [
    "df['Bluetooth'].value_counts"
   ]
  },
  {
   "cell_type": "code",
   "execution_count": 195,
   "metadata": {
    "metadata": {}
   },
   "outputs": [],
   "source": [
    "df['Bluetooth'].fillna(df['Bluetooth'].mode()[0],inplace=True)"
   ]
  },
  {
   "cell_type": "code",
   "execution_count": 196,
   "metadata": {
    "metadata": {}
   },
   "outputs": [
    {
     "data": {
      "text/plain": [
       "count     435\n",
       "unique      2\n",
       "top       Yes\n",
       "freq      431\n",
       "Name: Bluetooth, dtype: object"
      ]
     },
     "execution_count": 196,
     "metadata": {},
     "output_type": "execute_result"
    }
   ],
   "source": [
    "df['Bluetooth'].describe()"
   ]
  },
  {
   "cell_type": "markdown",
   "metadata": {},
   "source": [
    "# column 15 Display Size "
   ]
  },
  {
   "cell_type": "code",
   "execution_count": 197,
   "metadata": {
    "metadata": {}
   },
   "outputs": [
    {
     "data": {
      "text/plain": [
       "dtype('O')"
      ]
     },
     "execution_count": 197,
     "metadata": {},
     "output_type": "execute_result"
    }
   ],
   "source": [
    "df['Display Size'].dtypes"
   ]
  },
  {
   "cell_type": "code",
   "execution_count": 198,
   "metadata": {
    "metadata": {}
   },
   "outputs": [
    {
     "data": {
      "text/plain": [
       "27"
      ]
     },
     "execution_count": 198,
     "metadata": {},
     "output_type": "execute_result"
    }
   ],
   "source": [
    "df['Display Size'].isna().sum()"
   ]
  },
  {
   "cell_type": "code",
   "execution_count": 199,
   "metadata": {
    "metadata": {}
   },
   "outputs": [
    {
     "name": "stderr",
     "output_type": "stream",
     "text": [
      "C:\\Users\\IT PARK\\AppData\\Local\\Temp\\ipykernel_15988\\2097396846.py:1: FutureWarning: A value is trying to be set on a copy of a DataFrame or Series through chained assignment using an inplace method.\n",
      "The behavior will change in pandas 3.0. This inplace method will never work because the intermediate object on which we are setting values always behaves as a copy.\n",
      "\n",
      "For example, when doing 'df[col].method(value, inplace=True)', try using 'df.method({col: value}, inplace=True)' or df[col] = df[col].method(value) instead, to perform the operation inplace on the original object.\n",
      "\n",
      "\n",
      "  df['Display Size'].fillna(df['Display Size'].mode()[0],inplace=True)\n"
     ]
    }
   ],
   "source": [
    "df['Display Size'].fillna(df['Display Size'].mode()[0],inplace=True)"
   ]
  },
  {
   "cell_type": "code",
   "execution_count": 200,
   "metadata": {
    "metadata": {}
   },
   "outputs": [
    {
     "data": {
      "text/plain": [
       "count            435\n",
       "unique            38\n",
       "top       1.7 inches\n",
       "freq              94\n",
       "Name: Display Size, dtype: object"
      ]
     },
     "execution_count": 200,
     "metadata": {},
     "output_type": "execute_result"
    }
   ],
   "source": [
    "df['Display Size'].describe()"
   ]
  },
  {
   "cell_type": "markdown",
   "metadata": {},
   "source": [
    "# column 16 Weight"
   ]
  },
  {
   "cell_type": "code",
   "execution_count": 201,
   "metadata": {
    "metadata": {}
   },
   "outputs": [
    {
     "data": {
      "text/plain": [
       "dtype('O')"
      ]
     },
     "execution_count": 201,
     "metadata": {},
     "output_type": "execute_result"
    }
   ],
   "source": [
    "df['Weight'].dtypes"
   ]
  },
  {
   "cell_type": "code",
   "execution_count": 202,
   "metadata": {
    "metadata": {}
   },
   "outputs": [
    {
     "data": {
      "text/plain": [
       "Weight\n",
       "20 - 35 g    79\n",
       "75g +        61\n",
       "35 - 50 g    55\n",
       "<= 20 g      43\n",
       "50 - 75 g    16\n",
       "Name: count, dtype: int64"
      ]
     },
     "execution_count": 202,
     "metadata": {},
     "output_type": "execute_result"
    }
   ],
   "source": [
    "df['Weight'].value_counts()"
   ]
  },
  {
   "cell_type": "code",
   "execution_count": 203,
   "metadata": {
    "metadata": {}
   },
   "outputs": [
    {
     "data": {
      "text/plain": [
       "181"
      ]
     },
     "execution_count": 203,
     "metadata": {},
     "output_type": "execute_result"
    }
   ],
   "source": [
    "df['Weight'].isna().sum()"
   ]
  },
  {
   "cell_type": "code",
   "execution_count": 204,
   "metadata": {
    "metadata": {}
   },
   "outputs": [
    {
     "name": "stderr",
     "output_type": "stream",
     "text": [
      "C:\\Users\\IT PARK\\AppData\\Local\\Temp\\ipykernel_15988\\2676071915.py:1: FutureWarning: A value is trying to be set on a copy of a DataFrame or Series through chained assignment using an inplace method.\n",
      "The behavior will change in pandas 3.0. This inplace method will never work because the intermediate object on which we are setting values always behaves as a copy.\n",
      "\n",
      "For example, when doing 'df[col].method(value, inplace=True)', try using 'df.method({col: value}, inplace=True)' or df[col] = df[col].method(value) instead, to perform the operation inplace on the original object.\n",
      "\n",
      "\n",
      "  df['Weight'].fillna(df['Weight'].mode()[0],inplace=True)\n"
     ]
    }
   ],
   "source": [
    "df['Weight'].fillna(df['Weight'].mode()[0],inplace=True)"
   ]
  },
  {
   "cell_type": "code",
   "execution_count": 205,
   "metadata": {
    "metadata": {}
   },
   "outputs": [
    {
     "data": {
      "text/plain": [
       "count           435\n",
       "unique            5\n",
       "top       20 - 35 g\n",
       "freq            260\n",
       "Name: Weight, dtype: object"
      ]
     },
     "execution_count": 205,
     "metadata": {},
     "output_type": "execute_result"
    }
   ],
   "source": [
    "df['Weight'].describe()"
   ]
  },
  {
   "cell_type": "markdown",
   "metadata": {},
   "source": [
    "# Data Visualization\n",
    "\n",
    "1.Univariate Plots\n",
    "   Histogram,density,box\n",
    "\n",
    "2.Multivariate Plots\n",
    "    correlation,scatter"
   ]
  },
  {
   "cell_type": "code",
   "execution_count": 206,
   "metadata": {
    "metadata": {}
   },
   "outputs": [
    {
     "name": "stdout",
     "output_type": "stream",
     "text": [
      "Requirement already satisfied: matplotlib in d:\\datascientist\\.venv\\lib\\site-packages (3.8.4)\n",
      "Requirement already satisfied: seaborn in d:\\datascientist\\.venv\\lib\\site-packages (0.12.2)\n",
      "Requirement already satisfied: contourpy>=1.0.1 in d:\\datascientist\\.venv\\lib\\site-packages (from matplotlib) (1.2.1)\n",
      "Requirement already satisfied: cycler>=0.10 in d:\\datascientist\\.venv\\lib\\site-packages (from matplotlib) (0.12.1)\n",
      "Requirement already satisfied: fonttools>=4.22.0 in d:\\datascientist\\.venv\\lib\\site-packages (from matplotlib) (4.51.0)\n",
      "Requirement already satisfied: kiwisolver>=1.3.1 in d:\\datascientist\\.venv\\lib\\site-packages (from matplotlib) (1.4.5)\n",
      "Requirement already satisfied: numpy>=1.21 in d:\\datascientist\\.venv\\lib\\site-packages (from matplotlib) (1.26.4)\n",
      "Requirement already satisfied: packaging>=20.0 in d:\\datascientist\\.venv\\lib\\site-packages (from matplotlib) (24.0)\n",
      "Requirement already satisfied: pillow>=8 in d:\\datascientist\\.venv\\lib\\site-packages (from matplotlib) (10.3.0)\n",
      "Requirement already satisfied: pyparsing>=2.3.1 in d:\\datascientist\\.venv\\lib\\site-packages (from matplotlib) (3.1.2)\n",
      "Requirement already satisfied: python-dateutil>=2.7 in d:\\datascientist\\.venv\\lib\\site-packages (from matplotlib) (2.9.0.post0)\n",
      "Requirement already satisfied: pandas>=0.25 in d:\\datascientist\\.venv\\lib\\site-packages (from seaborn) (2.2.2)\n",
      "Requirement already satisfied: pytz>=2020.1 in d:\\datascientist\\.venv\\lib\\site-packages (from pandas>=0.25->seaborn) (2024.1)\n",
      "Requirement already satisfied: tzdata>=2022.7 in d:\\datascientist\\.venv\\lib\\site-packages (from pandas>=0.25->seaborn) (2024.1)\n",
      "Requirement already satisfied: six>=1.5 in d:\\datascientist\\.venv\\lib\\site-packages (from python-dateutil>=2.7->matplotlib) (1.16.0)\n",
      "Note: you may need to restart the kernel to use updated packages.\n"
     ]
    }
   ],
   "source": [
    "pip install matplotlib seaborn"
   ]
  },
  {
   "cell_type": "code",
   "execution_count": 207,
   "metadata": {
    "metadata": {}
   },
   "outputs": [],
   "source": [
    "import matplotlib.pyplot as plt\n",
    "import seaborn as sns"
   ]
  },
  {
   "cell_type": "code",
   "execution_count": 221,
   "metadata": {
    "metadata": {}
   },
   "outputs": [
    {
     "data": {
      "text/plain": [
       "['index',\n",
       " 'Brand',\n",
       " 'Current Price',\n",
       " 'Original Price',\n",
       " 'Discount Percentage',\n",
       " 'Rating',\n",
       " 'Number OF Ratings',\n",
       " 'Model Name',\n",
       " 'Dial Shape',\n",
       " 'Strap Color',\n",
       " 'Strap Material',\n",
       " 'Touchscreen',\n",
       " 'Battery Life (Days)',\n",
       " 'Bluetooth',\n",
       " 'Display Size',\n",
       " 'Weight']"
      ]
     },
     "execution_count": 221,
     "metadata": {},
     "output_type": "execute_result"
    }
   ],
   "source": [
    "numerical_data=[feature for feature in df.columns if df[feature].dtype != 'objects']\n",
    "numerical_data"
   ]
  },
  {
   "cell_type": "code",
   "execution_count": 222,
   "metadata": {
    "metadata": {}
   },
   "outputs": [],
   "source": [
    "numerical_data.remove('index')\n",
    "numerical_data.remove( 'Brand')\n",
    "numerical_data.remove( 'Dial Shape')\n",
    "numerical_data.remove( 'Strap Color')\n",
    "numerical_data.remove( 'Strap Material')\n",
    "numerical_data.remove( 'Touchscreen')\n",
    "numerical_data.remove( 'Bluetooth')\n",
    "numerical_data.remove( 'Display Size')\n",
    "numerical_data.remove( 'Weight')\n",
    "numerical_data.remove('Model Name')"
   ]
  },
  {
   "cell_type": "code",
   "execution_count": 224,
   "metadata": {
    "metadata": {}
   },
   "outputs": [
    {
     "data": {
      "text/plain": [
       "['Current Price',\n",
       " 'Original Price',\n",
       " 'Discount Percentage',\n",
       " 'Rating',\n",
       " 'Number OF Ratings',\n",
       " 'Battery Life (Days)']"
      ]
     },
     "execution_count": 224,
     "metadata": {},
     "output_type": "execute_result"
    }
   ],
   "source": [
    "numerical_data"
   ]
  },
  {
   "cell_type": "code",
   "execution_count": 225,
   "metadata": {
    "metadata": {}
   },
   "outputs": [
    {
     "name": "stderr",
     "output_type": "stream",
     "text": [
      "d:\\DataScientist\\.venv\\Lib\\site-packages\\seaborn\\_oldcore.py:1119: FutureWarning: use_inf_as_na option is deprecated and will be removed in a future version. Convert inf values to NaN before operating instead.\n",
      "  with pd.option_context('mode.use_inf_as_na', True):\n",
      "d:\\DataScientist\\.venv\\Lib\\site-packages\\seaborn\\_oldcore.py:1119: FutureWarning: use_inf_as_na option is deprecated and will be removed in a future version. Convert inf values to NaN before operating instead.\n",
      "  with pd.option_context('mode.use_inf_as_na', True):\n",
      "d:\\DataScientist\\.venv\\Lib\\site-packages\\seaborn\\_oldcore.py:1119: FutureWarning: use_inf_as_na option is deprecated and will be removed in a future version. Convert inf values to NaN before operating instead.\n",
      "  with pd.option_context('mode.use_inf_as_na', True):\n",
      "d:\\DataScientist\\.venv\\Lib\\site-packages\\seaborn\\_oldcore.py:1119: FutureWarning: use_inf_as_na option is deprecated and will be removed in a future version. Convert inf values to NaN before operating instead.\n",
      "  with pd.option_context('mode.use_inf_as_na', True):\n",
      "d:\\DataScientist\\.venv\\Lib\\site-packages\\seaborn\\_oldcore.py:1119: FutureWarning: use_inf_as_na option is deprecated and will be removed in a future version. Convert inf values to NaN before operating instead.\n",
      "  with pd.option_context('mode.use_inf_as_na', True):\n",
      "d:\\DataScientist\\.venv\\Lib\\site-packages\\seaborn\\_oldcore.py:1119: FutureWarning: use_inf_as_na option is deprecated and will be removed in a future version. Convert inf values to NaN before operating instead.\n",
      "  with pd.option_context('mode.use_inf_as_na', True):\n"
     ]
    },
    {
     "data": {
      "image/png": "[encoded data removed]",
      "text/plain": [
       "<Figure size 1400x800 with 9 Axes>"
      ]
     },
     "metadata": {},
     "output_type": "display_data"
    }
   ],
   "source": [
    "fig,axes=plt.subplots(nrows=3,ncols=3,figsize=(14,8))\n",
    "for i , column in enumerate(numerical_data):\n",
    "    row=i//3\n",
    "    col=i%3\n",
    "    ax=axes[row,col]\n",
    "    sns.kdeplot(data=df[column],ax=ax,fill=True)\n",
    "\n",
    "fig.tight_layout()\n",
    "plt.show()"
   ]
  },
  {
   "cell_type": "code",
   "execution_count": 228,
   "metadata": {
    "metadata": {}
   },
   "outputs": [
    {
     "data": {
      "image/png": "[encoded data removed]",
      "text/plain": [
       "<Figure size 1400x800 with 6 Axes>"
      ]
     },
     "metadata": {},
     "output_type": "display_data"
    }
   ],
   "source": [
    "fig,axes=plt.subplots(nrows=2,ncols=3,figsize=(14,8))\n",
    "for i , column in enumerate(numerical_data):\n",
    "    row=i//3\n",
    "    col=i%3\n",
    "    ax=axes[row,col]\n",
    "    sns.boxplot(data=df[column],ax=ax)\n",
    "\n",
    "fig.tight_layout()\n",
    "plt.show()"
   ]
  },
  {
   "cell_type": "markdown",
   "metadata": {},
   "source": [
    "# Tran Test Split"
   ]
  },
  {
   "cell_type": "code",
   "execution_count": 229,
   "metadata": {
    "metadata": {}
   },
   "outputs": [
    {
     "name": "stdout",
     "output_type": "stream",
     "text": [
      "Collecting scikit-learn\n",
      "  Using cached scikit_learn-1.4.2-cp311-cp311-win_amd64.whl.metadata (11 kB)\n",
      "Requirement already satisfied: numpy>=1.19.5 in d:\\datascientist\\.venv\\lib\\site-packages (from scikit-learn) (1.26.4)\n",
      "Requirement already satisfied: scipy>=1.6.0 in d:\\datascientist\\.venv\\lib\\site-packages (from scikit-learn) (1.11.4)\n",
      "Requirement already satisfied: joblib>=1.2.0 in d:\\datascientist\\.venv\\lib\\site-packages (from scikit-learn) (1.4.2)\n",
      "Collecting threadpoolctl>=2.0.0 (from scikit-learn)\n",
      "  Downloading threadpoolctl-3.5.0-py3-none-any.whl.metadata (13 kB)\n",
      "Using cached scikit_learn-1.4.2-cp311-cp311-win_amd64.whl (10.6 MB)\n",
      "Downloading threadpoolctl-3.5.0-py3-none-any.whl (18 kB)\n",
      "Installing collected packages: threadpoolctl, scikit-learn\n",
      "Successfully installed scikit-learn-1.4.2 threadpoolctl-3.5.0\n",
      "Note: you may need to restart the kernel to use updated packages.\n"
     ]
    }
   ],
   "source": [
    "pip install scikit-learn"
   ]
  },
  {
   "cell_type": "code",
   "execution_count": 231,
   "metadata": {
    "metadata": {}
   },
   "outputs": [
    {
     "data": {
      "text/html": [
       "<div>\n",
       "<style scoped>\n",
       "    .dataframe tbody tr th:only-of-type {\n",
       "        vertical-align: middle;\n",
       "    }\n",
       "\n",
       "    .dataframe tbody tr th {\n",
       "        vertical-align: top;\n",
       "    }\n",
       "\n",
       "    .dataframe thead th {\n",
       "        text-align: right;\n",
       "    }\n",
       "</style>\n",
       "<table border=\"1\" class=\"dataframe\">\n",
       "  <thead>\n",
       "    <tr style=\"text-align: right;\">\n",
       "      <th></th>\n",
       "      <th>Brand</th>\n",
       "      <th>Model Name</th>\n",
       "      <th>Dial Shape</th>\n",
       "      <th>Strap Color</th>\n",
       "      <th>Strap Material</th>\n",
       "      <th>Touchscreen</th>\n",
       "      <th>Bluetooth</th>\n",
       "      <th>Display Size</th>\n",
       "      <th>Weight</th>\n",
       "    </tr>\n",
       "  </thead>\n",
       "  <tbody>\n",
       "    <tr>\n",
       "      <th>0</th>\n",
       "      <td>noise</td>\n",
       "      <td>Wrb-sw-colorfitpro4alpha-std-rgld_pnk</td>\n",
       "      <td>Circle</td>\n",
       "      <td>Black</td>\n",
       "      <td>Silicon</td>\n",
       "      <td>Yes</td>\n",
       "      <td>Yes</td>\n",
       "      <td>1.7 inches</td>\n",
       "      <td>35 - 50 g</td>\n",
       "    </tr>\n",
       "    <tr>\n",
       "      <th>1</th>\n",
       "      <td>fire-boltt</td>\n",
       "      <td>BSW046</td>\n",
       "      <td>Circle</td>\n",
       "      <td>Black</td>\n",
       "      <td>Silicon</td>\n",
       "      <td>Yes</td>\n",
       "      <td>Yes</td>\n",
       "      <td>1.8 inches</td>\n",
       "      <td>50 - 75 g</td>\n",
       "    </tr>\n",
       "    <tr>\n",
       "      <th>2</th>\n",
       "      <td>boat</td>\n",
       "      <td>Wave Call</td>\n",
       "      <td>Circle</td>\n",
       "      <td>Black</td>\n",
       "      <td>Silicon</td>\n",
       "      <td>Yes</td>\n",
       "      <td>Yes</td>\n",
       "      <td>1.7 inches</td>\n",
       "      <td>35 - 50 g</td>\n",
       "    </tr>\n",
       "    <tr>\n",
       "      <th>3</th>\n",
       "      <td>fire-boltt</td>\n",
       "      <td>BSW053</td>\n",
       "      <td>Circle</td>\n",
       "      <td>Black</td>\n",
       "      <td>Silicon</td>\n",
       "      <td>Yes</td>\n",
       "      <td>Yes</td>\n",
       "      <td>1.8 inches</td>\n",
       "      <td>75g +</td>\n",
       "    </tr>\n",
       "    <tr>\n",
       "      <th>4</th>\n",
       "      <td>noise</td>\n",
       "      <td>Wrb-sw-colorfitpulsegobuzz-std-blk_blk</td>\n",
       "      <td>Circle</td>\n",
       "      <td>Black</td>\n",
       "      <td>Other</td>\n",
       "      <td>Yes</td>\n",
       "      <td>Yes</td>\n",
       "      <td>1.7 inches</td>\n",
       "      <td>35 - 50 g</td>\n",
       "    </tr>\n",
       "  </tbody>\n",
       "</table>\n",
       "</div>"
      ],
      "text/plain": [
       "        Brand                              Model Name Dial Shape Strap Color  \\\n",
       "0       noise   Wrb-sw-colorfitpro4alpha-std-rgld_pnk     Circle       Black   \n",
       "1  fire-boltt                                  BSW046     Circle       Black   \n",
       "2        boat                               Wave Call     Circle       Black   \n",
       "3  fire-boltt                                  BSW053     Circle       Black   \n",
       "4       noise  Wrb-sw-colorfitpulsegobuzz-std-blk_blk     Circle       Black   \n",
       "\n",
       "  Strap Material Touchscreen Bluetooth Display Size     Weight  \n",
       "0        Silicon         Yes       Yes   1.7 inches  35 - 50 g  \n",
       "1        Silicon         Yes       Yes   1.8 inches  50 - 75 g  \n",
       "2        Silicon         Yes       Yes   1.7 inches  35 - 50 g  \n",
       "3        Silicon         Yes       Yes   1.8 inches      75g +  \n",
       "4          Other         Yes       Yes   1.7 inches  35 - 50 g  "
      ]
     },
     "execution_count": 231,
     "metadata": {},
     "output_type": "execute_result"
    }
   ],
   "source": [
    "df[(continuous_data)].head()"
   ]
  },
  {
   "cell_type": "code",
   "execution_count": null,
   "metadata": {},
   "outputs": [],
   "source": []
  },
  {
   "cell_type": "code",
   "execution_count": 240,
   "metadata": {
    "metadata": {}
   },
   "outputs": [
    {
     "data": {
      "text/plain": [
       "index                    int64\n",
       "Brand                   object\n",
       "Current Price          float64\n",
       "Original Price         float64\n",
       "Discount Percentage    float64\n",
       "Rating                 float64\n",
       "Number OF Ratings      float64\n",
       "Model Name              object\n",
       "Dial Shape              object\n",
       "Strap Color             object\n",
       "Strap Material          object\n",
       "Touchscreen             object\n",
       "Battery Life (Days)    float64\n",
       "Bluetooth               object\n",
       "Display Size            object\n",
       "Weight                  object\n",
       "dtype: object"
      ]
     },
     "execution_count": 240,
     "metadata": {},
     "output_type": "execute_result"
    }
   ],
   "source": [
    "df.dtypes"
   ]
  },
  {
   "cell_type": "code",
   "execution_count": null,
   "metadata": {},
   "outputs": [],
   "source": []
  },
  {
   "cell_type": "code",
   "execution_count": 232,
   "metadata": {
    "metadata": {}
   },
   "outputs": [],
   "source": [
    "from sklearn.model_selection import train_test_split\n",
    "X=df.drop(columns='Current Price')\n",
    "y=df['Current Price']"
   ]
  },
  {
   "cell_type": "code",
   "execution_count": 233,
   "metadata": {
    "metadata": {}
   },
   "outputs": [],
   "source": [
    "x_train,x_test,y_train,y_test=train_test_split(X,y,test_size=0.2,random_state=42)"
   ]
  },
  {
   "cell_type": "markdown",
   "metadata": {},
   "source": [
    "# Scalar"
   ]
  },
  {
   "cell_type": "code",
   "execution_count": 239,
   "metadata": {
    "metadata": {}
   },
   "outputs": [
    {
     "data": {
      "text/plain": [
       "Brand\n",
       "fire-boltt    43\n",
       "noise         33\n",
       "garmin        32\n",
       "boat          25\n",
       "pebble        25\n",
       "samsung       25\n",
       "zebronics     22\n",
       "dizo          22\n",
       "apple         21\n",
       "fitbit        19\n",
       "fossil        18\n",
       "gizmore       16\n",
       "amazfit       13\n",
       "honor         11\n",
       "huawei        10\n",
       "ambrane        9\n",
       "crossbeats     3\n",
       "hammer         1\n",
       "Name: count, dtype: int64"
      ]
     },
     "execution_count": 239,
     "metadata": {},
     "output_type": "execute_result"
    }
   ],
   "source": [
    "x_train['Brand'\n",
    "].value_counts()"
   ]
  },
  {
   "cell_type": "code",
   "execution_count": 243,
   "metadata": {
    "metadata": {}
   },
   "outputs": [
    {
     "name": "stderr",
     "output_type": "stream",
     "text": [
      "C:\\Users\\IT PARK\\AppData\\Local\\Temp\\ipykernel_15988\\747603528.py:5: SettingWithCopyWarning: \n",
      "A value is trying to be set on a copy of a slice from a DataFrame.\n",
      "Try using .loc[row_indexer,col_indexer] = value instead\n",
      "\n",
      "See the caveats in the documentation: https://pandas.pydata.org/pandas-docs/stable/user_guide/indexing.html#returning-a-view-versus-a-copy\n",
      "  df[(continuous_data)][col]=label.fit_transform(df[(continuous_data)][col])\n",
      "C:\\Users\\IT PARK\\AppData\\Local\\Temp\\ipykernel_15988\\747603528.py:5: SettingWithCopyWarning: \n",
      "A value is trying to be set on a copy of a slice from a DataFrame.\n",
      "Try using .loc[row_indexer,col_indexer] = value instead\n",
      "\n",
      "See the caveats in the documentation: https://pandas.pydata.org/pandas-docs/stable/user_guide/indexing.html#returning-a-view-versus-a-copy\n",
      "  df[(continuous_data)][col]=label.fit_transform(df[(continuous_data)][col])\n",
      "C:\\Users\\IT PARK\\AppData\\Local\\Temp\\ipykernel_15988\\747603528.py:5: SettingWithCopyWarning: \n",
      "A value is trying to be set on a copy of a slice from a DataFrame.\n",
      "Try using .loc[row_indexer,col_indexer] = value instead\n",
      "\n",
      "See the caveats in the documentation: https://pandas.pydata.org/pandas-docs/stable/user_guide/indexing.html#returning-a-view-versus-a-copy\n",
      "  df[(continuous_data)][col]=label.fit_transform(df[(continuous_data)][col])\n",
      "C:\\Users\\IT PARK\\AppData\\Local\\Temp\\ipykernel_15988\\747603528.py:5: SettingWithCopyWarning: \n",
      "A value is trying to be set on a copy of a slice from a DataFrame.\n",
      "Try using .loc[row_indexer,col_indexer] = value instead\n",
      "\n",
      "See the caveats in the documentation: https://pandas.pydata.org/pandas-docs/stable/user_guide/indexing.html#returning-a-view-versus-a-copy\n",
      "  df[(continuous_data)][col]=label.fit_transform(df[(continuous_data)][col])\n",
      "C:\\Users\\IT PARK\\AppData\\Local\\Temp\\ipykernel_15988\\747603528.py:5: SettingWithCopyWarning: \n",
      "A value is trying to be set on a copy of a slice from a DataFrame.\n",
      "Try using .loc[row_indexer,col_indexer] = value instead\n",
      "\n",
      "See the caveats in the documentation: https://pandas.pydata.org/pandas-docs/stable/user_guide/indexing.html#returning-a-view-versus-a-copy\n",
      "  df[(continuous_data)][col]=label.fit_transform(df[(continuous_data)][col])\n",
      "C:\\Users\\IT PARK\\AppData\\Local\\Temp\\ipykernel_15988\\747603528.py:5: SettingWithCopyWarning: \n",
      "A value is trying to be set on a copy of a slice from a DataFrame.\n",
      "Try using .loc[row_indexer,col_indexer] = value instead\n",
      "\n",
      "See the caveats in the documentation: https://pandas.pydata.org/pandas-docs/stable/user_guide/indexing.html#returning-a-view-versus-a-copy\n",
      "  df[(continuous_data)][col]=label.fit_transform(df[(continuous_data)][col])\n",
      "C:\\Users\\IT PARK\\AppData\\Local\\Temp\\ipykernel_15988\\747603528.py:5: SettingWithCopyWarning: \n",
      "A value is trying to be set on a copy of a slice from a DataFrame.\n",
      "Try using .loc[row_indexer,col_indexer] = value instead\n",
      "\n",
      "See the caveats in the documentation: https://pandas.pydata.org/pandas-docs/stable/user_guide/indexing.html#returning-a-view-versus-a-copy\n",
      "  df[(continuous_data)][col]=label.fit_transform(df[(continuous_data)][col])\n",
      "C:\\Users\\IT PARK\\AppData\\Local\\Temp\\ipykernel_15988\\747603528.py:5: SettingWithCopyWarning: \n",
      "A value is trying to be set on a copy of a slice from a DataFrame.\n",
      "Try using .loc[row_indexer,col_indexer] = value instead\n",
      "\n",
      "See the caveats in the documentation: https://pandas.pydata.org/pandas-docs/stable/user_guide/indexing.html#returning-a-view-versus-a-copy\n",
      "  df[(continuous_data)][col]=label.fit_transform(df[(continuous_data)][col])\n",
      "C:\\Users\\IT PARK\\AppData\\Local\\Temp\\ipykernel_15988\\747603528.py:5: SettingWithCopyWarning: \n",
      "A value is trying to be set on a copy of a slice from a DataFrame.\n",
      "Try using .loc[row_indexer,col_indexer] = value instead\n",
      "\n",
      "See the caveats in the documentation: https://pandas.pydata.org/pandas-docs/stable/user_guide/indexing.html#returning-a-view-versus-a-copy\n",
      "  df[(continuous_data)][col]=label.fit_transform(df[(continuous_data)][col])\n"
     ]
    }
   ],
   "source": [
    "from sklearn.preprocessing import LabelEncoder\n",
    "label=LabelEncoder()\n",
    "cat=df[(continuous_data)].select_dtypes(include=['object']).columns\n",
    "for col in cat:\n",
    "    df[(continuous_data)][col]=label.fit_transform(df[(continuous_data)][col])\n"
   ]
  },
  {
   "cell_type": "code",
   "execution_count": 245,
   "metadata": {
    "metadata": {}
   },
   "outputs": [
    {
     "data": {
      "text/html": [
       "<div>\n",
       "<style scoped>\n",
       "    .dataframe tbody tr th:only-of-type {\n",
       "        vertical-align: middle;\n",
       "    }\n",
       "\n",
       "    .dataframe tbody tr th {\n",
       "        vertical-align: top;\n",
       "    }\n",
       "\n",
       "    .dataframe thead th {\n",
       "        text-align: right;\n",
       "    }\n",
       "</style>\n",
       "<table border=\"1\" class=\"dataframe\">\n",
       "  <thead>\n",
       "    <tr style=\"text-align: right;\">\n",
       "      <th></th>\n",
       "      <th>Brand</th>\n",
       "      <th>Model Name</th>\n",
       "      <th>Dial Shape</th>\n",
       "      <th>Strap Color</th>\n",
       "      <th>Strap Material</th>\n",
       "      <th>Touchscreen</th>\n",
       "      <th>Bluetooth</th>\n",
       "      <th>Display Size</th>\n",
       "      <th>Weight</th>\n",
       "    </tr>\n",
       "  </thead>\n",
       "  <tbody>\n",
       "    <tr>\n",
       "      <th>0</th>\n",
       "      <td>noise</td>\n",
       "      <td>Wrb-sw-colorfitpro4alpha-std-rgld_pnk</td>\n",
       "      <td>Circle</td>\n",
       "      <td>Black</td>\n",
       "      <td>Silicon</td>\n",
       "      <td>Yes</td>\n",
       "      <td>Yes</td>\n",
       "      <td>1.7 inches</td>\n",
       "      <td>35 - 50 g</td>\n",
       "    </tr>\n",
       "    <tr>\n",
       "      <th>1</th>\n",
       "      <td>fire-boltt</td>\n",
       "      <td>BSW046</td>\n",
       "      <td>Circle</td>\n",
       "      <td>Black</td>\n",
       "      <td>Silicon</td>\n",
       "      <td>Yes</td>\n",
       "      <td>Yes</td>\n",
       "      <td>1.8 inches</td>\n",
       "      <td>50 - 75 g</td>\n",
       "    </tr>\n",
       "    <tr>\n",
       "      <th>2</th>\n",
       "      <td>boat</td>\n",
       "      <td>Wave Call</td>\n",
       "      <td>Circle</td>\n",
       "      <td>Black</td>\n",
       "      <td>Silicon</td>\n",
       "      <td>Yes</td>\n",
       "      <td>Yes</td>\n",
       "      <td>1.7 inches</td>\n",
       "      <td>35 - 50 g</td>\n",
       "    </tr>\n",
       "    <tr>\n",
       "      <th>3</th>\n",
       "      <td>fire-boltt</td>\n",
       "      <td>BSW053</td>\n",
       "      <td>Circle</td>\n",
       "      <td>Black</td>\n",
       "      <td>Silicon</td>\n",
       "      <td>Yes</td>\n",
       "      <td>Yes</td>\n",
       "      <td>1.8 inches</td>\n",
       "      <td>75g +</td>\n",
       "    </tr>\n",
       "    <tr>\n",
       "      <th>4</th>\n",
       "      <td>noise</td>\n",
       "      <td>Wrb-sw-colorfitpulsegobuzz-std-blk_blk</td>\n",
       "      <td>Circle</td>\n",
       "      <td>Black</td>\n",
       "      <td>Other</td>\n",
       "      <td>Yes</td>\n",
       "      <td>Yes</td>\n",
       "      <td>1.7 inches</td>\n",
       "      <td>35 - 50 g</td>\n",
       "    </tr>\n",
       "    <tr>\n",
       "      <th>...</th>\n",
       "      <td>...</td>\n",
       "      <td>...</td>\n",
       "      <td>...</td>\n",
       "      <td>...</td>\n",
       "      <td>...</td>\n",
       "      <td>...</td>\n",
       "      <td>...</td>\n",
       "      <td>...</td>\n",
       "      <td>...</td>\n",
       "    </tr>\n",
       "    <tr>\n",
       "      <th>442</th>\n",
       "      <td>fire-boltt</td>\n",
       "      <td>ring</td>\n",
       "      <td>Square</td>\n",
       "      <td>White</td>\n",
       "      <td>Rubber</td>\n",
       "      <td>Yes</td>\n",
       "      <td>Yes</td>\n",
       "      <td>1.7 inches</td>\n",
       "      <td>20 - 35 g</td>\n",
       "    </tr>\n",
       "    <tr>\n",
       "      <th>443</th>\n",
       "      <td>fire-boltt</td>\n",
       "      <td>bsw002</td>\n",
       "      <td>Square</td>\n",
       "      <td>Black</td>\n",
       "      <td>Silicon</td>\n",
       "      <td>Yes</td>\n",
       "      <td>Yes</td>\n",
       "      <td>1.7 inches</td>\n",
       "      <td>20 - 35 g</td>\n",
       "    </tr>\n",
       "    <tr>\n",
       "      <th>444</th>\n",
       "      <td>fire-boltt</td>\n",
       "      <td>bsw020</td>\n",
       "      <td>Circle</td>\n",
       "      <td>Brown</td>\n",
       "      <td>Silicon</td>\n",
       "      <td>Yes</td>\n",
       "      <td>Yes</td>\n",
       "      <td>1.4 inches</td>\n",
       "      <td>20 - 35 g</td>\n",
       "    </tr>\n",
       "    <tr>\n",
       "      <th>445</th>\n",
       "      <td>fire-boltt</td>\n",
       "      <td>bsw003</td>\n",
       "      <td>Circle</td>\n",
       "      <td>Grey</td>\n",
       "      <td>Silicon</td>\n",
       "      <td>Yes</td>\n",
       "      <td>Yes</td>\n",
       "      <td>1.3 inches</td>\n",
       "      <td>20 - 35 g</td>\n",
       "    </tr>\n",
       "    <tr>\n",
       "      <th>447</th>\n",
       "      <td>fire-boltt</td>\n",
       "      <td>bsw003</td>\n",
       "      <td>Circle</td>\n",
       "      <td>Gold</td>\n",
       "      <td>Silicon</td>\n",
       "      <td>Yes</td>\n",
       "      <td>Yes</td>\n",
       "      <td>1.3 inches</td>\n",
       "      <td>20 - 35 g</td>\n",
       "    </tr>\n",
       "  </tbody>\n",
       "</table>\n",
       "<p>435 rows × 9 columns</p>\n",
       "</div>"
      ],
      "text/plain": [
       "          Brand                              Model Name Dial Shape  \\\n",
       "0         noise   Wrb-sw-colorfitpro4alpha-std-rgld_pnk     Circle   \n",
       "1    fire-boltt                                  BSW046     Circle   \n",
       "2          boat                               Wave Call     Circle   \n",
       "3    fire-boltt                                  BSW053     Circle   \n",
       "4         noise  Wrb-sw-colorfitpulsegobuzz-std-blk_blk     Circle   \n",
       "..          ...                                     ...        ...   \n",
       "442  fire-boltt                                    ring     Square   \n",
       "443  fire-boltt                                  bsw002     Square   \n",
       "444  fire-boltt                                  bsw020     Circle   \n",
       "445  fire-boltt                                  bsw003     Circle   \n",
       "447  fire-boltt                                  bsw003     Circle   \n",
       "\n",
       "    Strap Color Strap Material Touchscreen Bluetooth Display Size     Weight  \n",
       "0         Black        Silicon         Yes       Yes   1.7 inches  35 - 50 g  \n",
       "1         Black        Silicon         Yes       Yes   1.8 inches  50 - 75 g  \n",
       "2         Black        Silicon         Yes       Yes   1.7 inches  35 - 50 g  \n",
       "3         Black        Silicon         Yes       Yes   1.8 inches      75g +  \n",
       "4         Black          Other         Yes       Yes   1.7 inches  35 - 50 g  \n",
       "..          ...            ...         ...       ...          ...        ...  \n",
       "442       White         Rubber         Yes       Yes   1.7 inches  20 - 35 g  \n",
       "443       Black        Silicon         Yes       Yes   1.7 inches  20 - 35 g  \n",
       "444       Brown        Silicon         Yes       Yes   1.4 inches  20 - 35 g  \n",
       "445        Grey        Silicon         Yes       Yes   1.3 inches  20 - 35 g  \n",
       "447        Gold        Silicon         Yes       Yes   1.3 inches  20 - 35 g  \n",
       "\n",
       "[435 rows x 9 columns]"
      ]
     },
     "execution_count": 245,
     "metadata": {},
     "output_type": "execute_result"
    }
   ],
   "source": [
    "df[(continuous_data)]"
   ]
  },
  {
   "cell_type": "code",
   "execution_count": null,
   "metadata": {},
   "outputs": [],
   "source": []
  }
 ],
 "metadata": {
  "kernelspec": {
   "display_name": ".venv",
   "language": "python",
   "name": "python3"
  },
  "language_info": {
   "codemirror_mode": {
    "name": "ipython",
    "version": 3
   },
   "file_extension": ".py",
   "mimetype": "text/x-python",
   "name": "python",
   "nbconvert_exporter": "python",
   "pygments_lexer": "ipython3",
   "version": "3.11.3"
  }
 },
 "nbformat": 4,
 "nbformat_minor": 2
}
